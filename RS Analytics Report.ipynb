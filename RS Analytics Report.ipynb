{
 "cells": [
  {
   "cell_type": "code",
   "execution_count": 1,
   "metadata": {},
   "outputs": [],
   "source": [
    "#imports\n",
    "import pandas as pd\n",
    "import seaborn as sns\n",
    "import numpy as np\n",
    "from matplotlib import pyplot"
   ]
  },
  {
   "cell_type": "code",
   "execution_count": 2,
   "metadata": {},
   "outputs": [],
   "source": [
    "df = pd.read_csv(\"Metro_Nashville_Police_Department_Calls_for_Service__2019_.csv\", index_col='Event Number')"
   ]
  },
  {
   "cell_type": "code",
   "execution_count": 3,
   "metadata": {},
   "outputs": [
    {
     "data": {
      "text/html": [
       "<div>\n",
       "<style scoped>\n",
       "    .dataframe tbody tr th:only-of-type {\n",
       "        vertical-align: middle;\n",
       "    }\n",
       "\n",
       "    .dataframe tbody tr th {\n",
       "        vertical-align: top;\n",
       "    }\n",
       "\n",
       "    .dataframe thead th {\n",
       "        text-align: right;\n",
       "    }\n",
       "</style>\n",
       "<table border=\"1\" class=\"dataframe\">\n",
       "  <thead>\n",
       "    <tr style=\"text-align: right;\">\n",
       "      <th></th>\n",
       "      <th>Call Received</th>\n",
       "      <th>Complaint Number</th>\n",
       "      <th>Shift</th>\n",
       "      <th>Tencode</th>\n",
       "      <th>Tencode Description</th>\n",
       "      <th>Tencode Suffix</th>\n",
       "      <th>Tencode Suffix Description</th>\n",
       "      <th>Disposition Code</th>\n",
       "      <th>Disposition Description</th>\n",
       "      <th>Block</th>\n",
       "      <th>Street Name</th>\n",
       "      <th>Unit Dispatched</th>\n",
       "      <th>Sector</th>\n",
       "      <th>Zone</th>\n",
       "      <th>RPA</th>\n",
       "      <th>Latitude</th>\n",
       "      <th>Longitude</th>\n",
       "      <th>Mapped Location</th>\n",
       "    </tr>\n",
       "    <tr>\n",
       "      <th>Event Number</th>\n",
       "      <th></th>\n",
       "      <th></th>\n",
       "      <th></th>\n",
       "      <th></th>\n",
       "      <th></th>\n",
       "      <th></th>\n",
       "      <th></th>\n",
       "      <th></th>\n",
       "      <th></th>\n",
       "      <th></th>\n",
       "      <th></th>\n",
       "      <th></th>\n",
       "      <th></th>\n",
       "      <th></th>\n",
       "      <th></th>\n",
       "      <th></th>\n",
       "      <th></th>\n",
       "      <th></th>\n",
       "    </tr>\n",
       "  </thead>\n",
       "  <tbody>\n",
       "    <tr>\n",
       "      <th>PD201900158507</th>\n",
       "      <td>02/20/2019 10:44:46 AM</td>\n",
       "      <td>20190138459</td>\n",
       "      <td>A</td>\n",
       "      <td>50</td>\n",
       "      <td>Theft</td>\n",
       "      <td>R</td>\n",
       "      <td>REPORT</td>\n",
       "      <td>1</td>\n",
       "      <td>M.P.D. REPORT COMPLED</td>\n",
       "      <td>NaN</td>\n",
       "      <td>E CAMPBELL RD</td>\n",
       "      <td>MAPR</td>\n",
       "      <td>NaN</td>\n",
       "      <td>NaN</td>\n",
       "      <td>NaN</td>\n",
       "      <td>NaN</td>\n",
       "      <td>NaN</td>\n",
       "      <td>NaN</td>\n",
       "    </tr>\n",
       "    <tr>\n",
       "      <th>PD201900135069</th>\n",
       "      <td>02/13/2019 01:10:45 AM</td>\n",
       "      <td>20190117840</td>\n",
       "      <td>C</td>\n",
       "      <td>71</td>\n",
       "      <td>Burglary - Non-Residence</td>\n",
       "      <td>A</td>\n",
       "      <td>ALARM</td>\n",
       "      <td>6</td>\n",
       "      <td>ASSISTED OTHER UNIT</td>\n",
       "      <td>NaN</td>\n",
       "      <td>CHARLOTTE PKE</td>\n",
       "      <td>123C</td>\n",
       "      <td>NaN</td>\n",
       "      <td>NaN</td>\n",
       "      <td>NaN</td>\n",
       "      <td>NaN</td>\n",
       "      <td>NaN</td>\n",
       "      <td>NaN</td>\n",
       "    </tr>\n",
       "    <tr>\n",
       "      <th>PD201900149088</th>\n",
       "      <td>02/17/2019 12:47:28 PM</td>\n",
       "      <td>20190130236</td>\n",
       "      <td>A</td>\n",
       "      <td>50</td>\n",
       "      <td>Theft</td>\n",
       "      <td>R</td>\n",
       "      <td>REPORT</td>\n",
       "      <td>1</td>\n",
       "      <td>M.P.D. REPORT COMPLED</td>\n",
       "      <td>NaN</td>\n",
       "      <td>CHAPEL AV</td>\n",
       "      <td>213B</td>\n",
       "      <td>NaN</td>\n",
       "      <td>NaN</td>\n",
       "      <td>NaN</td>\n",
       "      <td>NaN</td>\n",
       "      <td>NaN</td>\n",
       "      <td>NaN</td>\n",
       "    </tr>\n",
       "    <tr>\n",
       "      <th>PD201900148900</th>\n",
       "      <td>02/17/2019 10:46:09 AM</td>\n",
       "      <td>20190129933</td>\n",
       "      <td>A</td>\n",
       "      <td>45</td>\n",
       "      <td>Vehicle Accident - Property Damage</td>\n",
       "      <td>P</td>\n",
       "      <td>PROGRESS</td>\n",
       "      <td>6</td>\n",
       "      <td>ASSISTED OTHER UNIT</td>\n",
       "      <td>1200.0</td>\n",
       "      <td>2ND AV N</td>\n",
       "      <td>410A</td>\n",
       "      <td>C</td>\n",
       "      <td>13</td>\n",
       "      <td>4315.0</td>\n",
       "      <td>36.178</td>\n",
       "      <td>-86.785</td>\n",
       "      <td>(36.178, -86.785)</td>\n",
       "    </tr>\n",
       "    <tr>\n",
       "      <th>PD201900148353</th>\n",
       "      <td>02/17/2019 04:31:56 AM</td>\n",
       "      <td>20190129434</td>\n",
       "      <td>C</td>\n",
       "      <td>43</td>\n",
       "      <td>Want Officer for Investigation / Assistance</td>\n",
       "      <td>P</td>\n",
       "      <td>PROGRESS</td>\n",
       "      <td>8</td>\n",
       "      <td>ADVISED IN CIVIL CASE</td>\n",
       "      <td>100.0</td>\n",
       "      <td>N 1ST ST</td>\n",
       "      <td>415C</td>\n",
       "      <td>C</td>\n",
       "      <td>13</td>\n",
       "      <td>1993.0</td>\n",
       "      <td>36.172</td>\n",
       "      <td>-86.772</td>\n",
       "      <td>(36.172, -86.772)</td>\n",
       "    </tr>\n",
       "  </tbody>\n",
       "</table>\n",
       "</div>"
      ],
      "text/plain": [
       "                         Call Received  Complaint Number Shift  Tencode  \\\n",
       "Event Number                                                              \n",
       "PD201900158507  02/20/2019 10:44:46 AM       20190138459     A       50   \n",
       "PD201900135069  02/13/2019 01:10:45 AM       20190117840     C       71   \n",
       "PD201900149088  02/17/2019 12:47:28 PM       20190130236     A       50   \n",
       "PD201900148900  02/17/2019 10:46:09 AM       20190129933     A       45   \n",
       "PD201900148353  02/17/2019 04:31:56 AM       20190129434     C       43   \n",
       "\n",
       "                                        Tencode Description Tencode Suffix  \\\n",
       "Event Number                                                                 \n",
       "PD201900158507                                        Theft              R   \n",
       "PD201900135069                     Burglary - Non-Residence              A   \n",
       "PD201900149088                                        Theft              R   \n",
       "PD201900148900           Vehicle Accident - Property Damage              P   \n",
       "PD201900148353  Want Officer for Investigation / Assistance              P   \n",
       "\n",
       "               Tencode Suffix Description  Disposition Code  \\\n",
       "Event Number                                                  \n",
       "PD201900158507                     REPORT                 1   \n",
       "PD201900135069                      ALARM                 6   \n",
       "PD201900149088                     REPORT                 1   \n",
       "PD201900148900                   PROGRESS                 6   \n",
       "PD201900148353                   PROGRESS                 8   \n",
       "\n",
       "               Disposition Description   Block     Street Name  \\\n",
       "Event Number                                                     \n",
       "PD201900158507   M.P.D. REPORT COMPLED     NaN  E CAMPBELL RD    \n",
       "PD201900135069     ASSISTED OTHER UNIT     NaN  CHARLOTTE PKE    \n",
       "PD201900149088   M.P.D. REPORT COMPLED     NaN      CHAPEL AV    \n",
       "PD201900148900     ASSISTED OTHER UNIT  1200.0       2ND AV N    \n",
       "PD201900148353   ADVISED IN CIVIL CASE   100.0       N 1ST ST    \n",
       "\n",
       "               Unit Dispatched Sector Zone     RPA  Latitude  Longitude  \\\n",
       "Event Number                                                              \n",
       "PD201900158507            MAPR    NaN  NaN     NaN       NaN        NaN   \n",
       "PD201900135069            123C    NaN  NaN     NaN       NaN        NaN   \n",
       "PD201900149088            213B    NaN  NaN     NaN       NaN        NaN   \n",
       "PD201900148900            410A      C   13  4315.0    36.178    -86.785   \n",
       "PD201900148353            415C      C   13  1993.0    36.172    -86.772   \n",
       "\n",
       "                  Mapped Location  \n",
       "Event Number                       \n",
       "PD201900158507                NaN  \n",
       "PD201900135069                NaN  \n",
       "PD201900149088                NaN  \n",
       "PD201900148900  (36.178, -86.785)  \n",
       "PD201900148353  (36.172, -86.772)  "
      ]
     },
     "execution_count": 3,
     "metadata": {},
     "output_type": "execute_result"
    }
   ],
   "source": [
    "df.head()"
   ]
  },
  {
   "cell_type": "code",
   "execution_count": 4,
   "metadata": {
    "scrolled": true
   },
   "outputs": [
    {
     "data": {
      "text/plain": [
       "(785035, 18)"
      ]
     },
     "execution_count": 4,
     "metadata": {},
     "output_type": "execute_result"
    }
   ],
   "source": [
    "df.shape"
   ]
  },
  {
   "cell_type": "code",
   "execution_count": 5,
   "metadata": {
    "scrolled": true
   },
   "outputs": [
    {
     "data": {
      "text/plain": [
       "Call Received                 785035\n",
       "Complaint Number              785035\n",
       "Shift                         754497\n",
       "Tencode                       785035\n",
       "Tencode Description           785035\n",
       "Tencode Suffix                567571\n",
       "Tencode Suffix Description    546827\n",
       "Disposition Code              785035\n",
       "Disposition Description       783773\n",
       "Block                         760586\n",
       "Street Name                   785029\n",
       "Unit Dispatched               736217\n",
       "Sector                        752994\n",
       "Zone                          759604\n",
       "RPA                           759725\n",
       "Latitude                      757275\n",
       "Longitude                     757275\n",
       "Mapped Location               754258\n",
       "dtype: int64"
      ]
     },
     "execution_count": 5,
     "metadata": {},
     "output_type": "execute_result"
    }
   ],
   "source": [
    "df.count()"
   ]
  },
  {
   "cell_type": "code",
   "execution_count": 6,
   "metadata": {},
   "outputs": [
    {
     "data": {
      "text/plain": [
       "Call Received                 763745\n",
       "Complaint Number              734935\n",
       "Shift                              4\n",
       "Tencode                           52\n",
       "Tencode Description               92\n",
       "Tencode Suffix                    30\n",
       "Tencode Suffix Description        21\n",
       "Disposition Code                  17\n",
       "Disposition Description           16\n",
       "Block                            139\n",
       "Street Name                    27641\n",
       "Unit Dispatched                 2620\n",
       "Sector                             9\n",
       "Zone                              13\n",
       "RPA                             1997\n",
       "Latitude                         436\n",
       "Longitude                        529\n",
       "Mapped Location                40118\n",
       "dtype: int64"
      ]
     },
     "execution_count": 6,
     "metadata": {},
     "output_type": "execute_result"
    }
   ],
   "source": [
    "df.apply(lambda x: len(x.unique()))"
   ]
  },
  {
   "cell_type": "code",
   "execution_count": 7,
   "metadata": {},
   "outputs": [
    {
     "data": {
      "text/html": [
       "<div>\n",
       "<style scoped>\n",
       "    .dataframe tbody tr th:only-of-type {\n",
       "        vertical-align: middle;\n",
       "    }\n",
       "\n",
       "    .dataframe tbody tr th {\n",
       "        vertical-align: top;\n",
       "    }\n",
       "\n",
       "    .dataframe thead th {\n",
       "        text-align: right;\n",
       "    }\n",
       "</style>\n",
       "<table border=\"1\" class=\"dataframe\">\n",
       "  <thead>\n",
       "    <tr style=\"text-align: right;\">\n",
       "      <th></th>\n",
       "      <th>Call Received</th>\n",
       "      <th>Tencode Description</th>\n",
       "      <th>Disposition Description</th>\n",
       "      <th>Mapped Location</th>\n",
       "    </tr>\n",
       "    <tr>\n",
       "      <th>Event Number</th>\n",
       "      <th></th>\n",
       "      <th></th>\n",
       "      <th></th>\n",
       "      <th></th>\n",
       "    </tr>\n",
       "  </thead>\n",
       "  <tbody>\n",
       "    <tr>\n",
       "      <th>PD201900158507</th>\n",
       "      <td>02/20/2019 10:44:46 AM</td>\n",
       "      <td>Theft</td>\n",
       "      <td>M.P.D. REPORT COMPLED</td>\n",
       "      <td>NaN</td>\n",
       "    </tr>\n",
       "    <tr>\n",
       "      <th>PD201900135069</th>\n",
       "      <td>02/13/2019 01:10:45 AM</td>\n",
       "      <td>Burglary - Non-Residence</td>\n",
       "      <td>ASSISTED OTHER UNIT</td>\n",
       "      <td>NaN</td>\n",
       "    </tr>\n",
       "    <tr>\n",
       "      <th>PD201900149088</th>\n",
       "      <td>02/17/2019 12:47:28 PM</td>\n",
       "      <td>Theft</td>\n",
       "      <td>M.P.D. REPORT COMPLED</td>\n",
       "      <td>NaN</td>\n",
       "    </tr>\n",
       "    <tr>\n",
       "      <th>PD201900148900</th>\n",
       "      <td>02/17/2019 10:46:09 AM</td>\n",
       "      <td>Vehicle Accident - Property Damage</td>\n",
       "      <td>ASSISTED OTHER UNIT</td>\n",
       "      <td>(36.178, -86.785)</td>\n",
       "    </tr>\n",
       "    <tr>\n",
       "      <th>PD201900148353</th>\n",
       "      <td>02/17/2019 04:31:56 AM</td>\n",
       "      <td>Want Officer for Investigation / Assistance</td>\n",
       "      <td>ADVISED IN CIVIL CASE</td>\n",
       "      <td>(36.172, -86.772)</td>\n",
       "    </tr>\n",
       "  </tbody>\n",
       "</table>\n",
       "</div>"
      ],
      "text/plain": [
       "                         Call Received  \\\n",
       "Event Number                             \n",
       "PD201900158507  02/20/2019 10:44:46 AM   \n",
       "PD201900135069  02/13/2019 01:10:45 AM   \n",
       "PD201900149088  02/17/2019 12:47:28 PM   \n",
       "PD201900148900  02/17/2019 10:46:09 AM   \n",
       "PD201900148353  02/17/2019 04:31:56 AM   \n",
       "\n",
       "                                        Tencode Description  \\\n",
       "Event Number                                                  \n",
       "PD201900158507                                        Theft   \n",
       "PD201900135069                     Burglary - Non-Residence   \n",
       "PD201900149088                                        Theft   \n",
       "PD201900148900           Vehicle Accident - Property Damage   \n",
       "PD201900148353  Want Officer for Investigation / Assistance   \n",
       "\n",
       "               Disposition Description    Mapped Location  \n",
       "Event Number                                               \n",
       "PD201900158507   M.P.D. REPORT COMPLED                NaN  \n",
       "PD201900135069     ASSISTED OTHER UNIT                NaN  \n",
       "PD201900149088   M.P.D. REPORT COMPLED                NaN  \n",
       "PD201900148900     ASSISTED OTHER UNIT  (36.178, -86.785)  \n",
       "PD201900148353   ADVISED IN CIVIL CASE  (36.172, -86.772)  "
      ]
     },
     "execution_count": 7,
     "metadata": {},
     "output_type": "execute_result"
    }
   ],
   "source": [
    "df_new = df[['Call Received', 'Tencode Description','Disposition Description','Mapped Location']]\n",
    "df_new.head()"
   ]
  },
  {
   "cell_type": "code",
   "execution_count": 8,
   "metadata": {},
   "outputs": [
    {
     "data": {
      "text/plain": [
       "(785035, 4)"
      ]
     },
     "execution_count": 8,
     "metadata": {},
     "output_type": "execute_result"
    }
   ],
   "source": [
    "df_new.shape"
   ]
  },
  {
   "cell_type": "code",
   "execution_count": 9,
   "metadata": {},
   "outputs": [
    {
     "name": "stderr",
     "output_type": "stream",
     "text": [
      "/Users/zachcornelison/anaconda3/lib/python3.7/site-packages/ipykernel_launcher.py:1: SettingWithCopyWarning: \n",
      "A value is trying to be set on a copy of a slice from a DataFrame.\n",
      "Try using .loc[row_indexer,col_indexer] = value instead\n",
      "\n",
      "See the caveats in the documentation: http://pandas.pydata.org/pandas-docs/stable/indexing.html#indexing-view-versus-copy\n",
      "  \"\"\"Entry point for launching an IPython kernel.\n"
     ]
    }
   ],
   "source": [
    "df_new['Call Received'] =  pd.to_datetime(df_new['Call Received'])"
   ]
  },
  {
   "cell_type": "code",
   "execution_count": 10,
   "metadata": {},
   "outputs": [
    {
     "name": "stderr",
     "output_type": "stream",
     "text": [
      "/Users/zachcornelison/anaconda3/lib/python3.7/site-packages/ipykernel_launcher.py:1: SettingWithCopyWarning: \n",
      "A value is trying to be set on a copy of a slice from a DataFrame.\n",
      "Try using .loc[row_indexer,col_indexer] = value instead\n",
      "\n",
      "See the caveats in the documentation: http://pandas.pydata.org/pandas-docs/stable/indexing.html#indexing-view-versus-copy\n",
      "  \"\"\"Entry point for launching an IPython kernel.\n"
     ]
    }
   ],
   "source": [
    "df_new['Call Time'] = [d.time() for d in df_new['Call Received']]"
   ]
  },
  {
   "cell_type": "code",
   "execution_count": 11,
   "metadata": {},
   "outputs": [
    {
     "name": "stderr",
     "output_type": "stream",
     "text": [
      "/Users/zachcornelison/anaconda3/lib/python3.7/site-packages/ipykernel_launcher.py:1: SettingWithCopyWarning: \n",
      "A value is trying to be set on a copy of a slice from a DataFrame.\n",
      "Try using .loc[row_indexer,col_indexer] = value instead\n",
      "\n",
      "See the caveats in the documentation: http://pandas.pydata.org/pandas-docs/stable/indexing.html#indexing-view-versus-copy\n",
      "  \"\"\"Entry point for launching an IPython kernel.\n"
     ]
    }
   ],
   "source": [
    "df_new['Call Day'] = df_new['Call Received'].dt.day_name()"
   ]
  },
  {
   "cell_type": "code",
   "execution_count": 12,
   "metadata": {},
   "outputs": [
    {
     "data": {
      "text/plain": [
       "Call Received              785035\n",
       "Tencode Description        785035\n",
       "Disposition Description    783773\n",
       "Mapped Location            754258\n",
       "Call Time                  785035\n",
       "Call Day                   785035\n",
       "dtype: int64"
      ]
     },
     "execution_count": 12,
     "metadata": {},
     "output_type": "execute_result"
    }
   ],
   "source": [
    "df_new.count()"
   ]
  },
  {
   "cell_type": "code",
   "execution_count": 13,
   "metadata": {},
   "outputs": [],
   "source": [
    "df_new = df_new.assign(\n",
    "    timeOfDay=pd.cut(\n",
    "        df_new['Call Received'].dt.hour,\n",
    "        [-1, 4, 8, 12, 16, 20, 24],\n",
    "        labels=['Late Night', 'Early Morning', 'Morning', 'Afternoon', 'Evening', 'Night']))"
   ]
  },
  {
   "cell_type": "code",
   "execution_count": 14,
   "metadata": {},
   "outputs": [],
   "source": [
    "df_new.rename(columns = {'timeOfDay':'Call Time of Day'}, inplace = True)"
   ]
  },
  {
   "cell_type": "code",
   "execution_count": 15,
   "metadata": {},
   "outputs": [],
   "source": [
    "df_new = df_new[['Call Received', 'Call Time', 'Call Day', 'Call Time of Day', 'Tencode Description','Disposition Description','Mapped Location']]"
   ]
  },
  {
   "cell_type": "code",
   "execution_count": 16,
   "metadata": {},
   "outputs": [
    {
     "data": {
      "text/html": [
       "<div>\n",
       "<style scoped>\n",
       "    .dataframe tbody tr th:only-of-type {\n",
       "        vertical-align: middle;\n",
       "    }\n",
       "\n",
       "    .dataframe tbody tr th {\n",
       "        vertical-align: top;\n",
       "    }\n",
       "\n",
       "    .dataframe thead th {\n",
       "        text-align: right;\n",
       "    }\n",
       "</style>\n",
       "<table border=\"1\" class=\"dataframe\">\n",
       "  <thead>\n",
       "    <tr style=\"text-align: right;\">\n",
       "      <th></th>\n",
       "      <th>Call Received</th>\n",
       "      <th>Call Time</th>\n",
       "      <th>Call Day</th>\n",
       "      <th>Call Time of Day</th>\n",
       "      <th>Tencode Description</th>\n",
       "      <th>Disposition Description</th>\n",
       "      <th>Mapped Location</th>\n",
       "    </tr>\n",
       "    <tr>\n",
       "      <th>Event Number</th>\n",
       "      <th></th>\n",
       "      <th></th>\n",
       "      <th></th>\n",
       "      <th></th>\n",
       "      <th></th>\n",
       "      <th></th>\n",
       "      <th></th>\n",
       "    </tr>\n",
       "  </thead>\n",
       "  <tbody>\n",
       "    <tr>\n",
       "      <th>PD201900158507</th>\n",
       "      <td>2019-02-20 10:44:46</td>\n",
       "      <td>10:44:46</td>\n",
       "      <td>Wednesday</td>\n",
       "      <td>Morning</td>\n",
       "      <td>Theft</td>\n",
       "      <td>M.P.D. REPORT COMPLED</td>\n",
       "      <td>NaN</td>\n",
       "    </tr>\n",
       "    <tr>\n",
       "      <th>PD201900135069</th>\n",
       "      <td>2019-02-13 01:10:45</td>\n",
       "      <td>01:10:45</td>\n",
       "      <td>Wednesday</td>\n",
       "      <td>Late Night</td>\n",
       "      <td>Burglary - Non-Residence</td>\n",
       "      <td>ASSISTED OTHER UNIT</td>\n",
       "      <td>NaN</td>\n",
       "    </tr>\n",
       "    <tr>\n",
       "      <th>PD201900149088</th>\n",
       "      <td>2019-02-17 12:47:28</td>\n",
       "      <td>12:47:28</td>\n",
       "      <td>Sunday</td>\n",
       "      <td>Morning</td>\n",
       "      <td>Theft</td>\n",
       "      <td>M.P.D. REPORT COMPLED</td>\n",
       "      <td>NaN</td>\n",
       "    </tr>\n",
       "    <tr>\n",
       "      <th>PD201900148900</th>\n",
       "      <td>2019-02-17 10:46:09</td>\n",
       "      <td>10:46:09</td>\n",
       "      <td>Sunday</td>\n",
       "      <td>Morning</td>\n",
       "      <td>Vehicle Accident - Property Damage</td>\n",
       "      <td>ASSISTED OTHER UNIT</td>\n",
       "      <td>(36.178, -86.785)</td>\n",
       "    </tr>\n",
       "    <tr>\n",
       "      <th>PD201900148353</th>\n",
       "      <td>2019-02-17 04:31:56</td>\n",
       "      <td>04:31:56</td>\n",
       "      <td>Sunday</td>\n",
       "      <td>Late Night</td>\n",
       "      <td>Want Officer for Investigation / Assistance</td>\n",
       "      <td>ADVISED IN CIVIL CASE</td>\n",
       "      <td>(36.172, -86.772)</td>\n",
       "    </tr>\n",
       "  </tbody>\n",
       "</table>\n",
       "</div>"
      ],
      "text/plain": [
       "                     Call Received Call Time   Call Day Call Time of Day  \\\n",
       "Event Number                                                               \n",
       "PD201900158507 2019-02-20 10:44:46  10:44:46  Wednesday          Morning   \n",
       "PD201900135069 2019-02-13 01:10:45  01:10:45  Wednesday       Late Night   \n",
       "PD201900149088 2019-02-17 12:47:28  12:47:28     Sunday          Morning   \n",
       "PD201900148900 2019-02-17 10:46:09  10:46:09     Sunday          Morning   \n",
       "PD201900148353 2019-02-17 04:31:56  04:31:56     Sunday       Late Night   \n",
       "\n",
       "                                        Tencode Description  \\\n",
       "Event Number                                                  \n",
       "PD201900158507                                        Theft   \n",
       "PD201900135069                     Burglary - Non-Residence   \n",
       "PD201900149088                                        Theft   \n",
       "PD201900148900           Vehicle Accident - Property Damage   \n",
       "PD201900148353  Want Officer for Investigation / Assistance   \n",
       "\n",
       "               Disposition Description    Mapped Location  \n",
       "Event Number                                               \n",
       "PD201900158507   M.P.D. REPORT COMPLED                NaN  \n",
       "PD201900135069     ASSISTED OTHER UNIT                NaN  \n",
       "PD201900149088   M.P.D. REPORT COMPLED                NaN  \n",
       "PD201900148900     ASSISTED OTHER UNIT  (36.178, -86.785)  \n",
       "PD201900148353   ADVISED IN CIVIL CASE  (36.172, -86.772)  "
      ]
     },
     "execution_count": 16,
     "metadata": {},
     "output_type": "execute_result"
    }
   ],
   "source": [
    "df_new.head()"
   ]
  },
  {
   "cell_type": "code",
   "execution_count": 17,
   "metadata": {},
   "outputs": [
    {
     "data": {
      "text/plain": [
       "Call Received              763745\n",
       "Call Time                   86371\n",
       "Call Day                        7\n",
       "Call Time of Day                6\n",
       "Tencode Description            92\n",
       "Disposition Description        16\n",
       "Mapped Location             40118\n",
       "dtype: int64"
      ]
     },
     "execution_count": 17,
     "metadata": {},
     "output_type": "execute_result"
    }
   ],
   "source": [
    "df_new.apply(lambda x: len(x.unique()))"
   ]
  },
  {
   "cell_type": "code",
   "execution_count": 18,
   "metadata": {},
   "outputs": [
    {
     "data": {
      "text/plain": [
       "Tuesday      0.162270\n",
       "Wednesday    0.158904\n",
       "Thursday     0.157190\n",
       "Friday       0.152661\n",
       "Monday       0.143796\n",
       "Saturday     0.117800\n",
       "Sunday       0.107379\n",
       "Name: Call Day, dtype: float64"
      ]
     },
     "execution_count": 18,
     "metadata": {},
     "output_type": "execute_result"
    }
   ],
   "source": [
    "df_new['Call Day'].value_counts(normalize=True)"
   ]
  },
  {
   "cell_type": "code",
   "execution_count": 19,
   "metadata": {},
   "outputs": [
    {
     "data": {
      "text/plain": [
       "Afternoon        0.192277\n",
       "Morning          0.185593\n",
       "Evening          0.180344\n",
       "Late Night       0.167452\n",
       "Early Morning    0.159974\n",
       "Night            0.114361\n",
       "Name: Call Time of Day, dtype: float64"
      ]
     },
     "execution_count": 19,
     "metadata": {},
     "output_type": "execute_result"
    }
   ],
   "source": [
    "df_new['Call Time of Day'].value_counts(normalize=True)"
   ]
  },
  {
   "cell_type": "code",
   "execution_count": 20,
   "metadata": {
    "scrolled": true
   },
   "outputs": [
    {
     "data": {
      "text/html": [
       "<div>\n",
       "<style scoped>\n",
       "    .dataframe tbody tr th:only-of-type {\n",
       "        vertical-align: middle;\n",
       "    }\n",
       "\n",
       "    .dataframe tbody tr th {\n",
       "        vertical-align: top;\n",
       "    }\n",
       "\n",
       "    .dataframe thead th {\n",
       "        text-align: right;\n",
       "    }\n",
       "</style>\n",
       "<table border=\"1\" class=\"dataframe\">\n",
       "  <thead>\n",
       "    <tr style=\"text-align: right;\">\n",
       "      <th></th>\n",
       "      <th></th>\n",
       "      <th>Call Time of Day</th>\n",
       "    </tr>\n",
       "    <tr>\n",
       "      <th>Call Day</th>\n",
       "      <th>Call Time of Day</th>\n",
       "      <th></th>\n",
       "    </tr>\n",
       "  </thead>\n",
       "  <tbody>\n",
       "    <tr>\n",
       "      <th rowspan=\"6\" valign=\"top\">Friday</th>\n",
       "      <th>Afternoon</th>\n",
       "      <td>0.190080</td>\n",
       "    </tr>\n",
       "    <tr>\n",
       "      <th>Morning</th>\n",
       "      <td>0.190039</td>\n",
       "    </tr>\n",
       "    <tr>\n",
       "      <th>Evening</th>\n",
       "      <td>0.188595</td>\n",
       "    </tr>\n",
       "    <tr>\n",
       "      <th>Late Night</th>\n",
       "      <td>0.159307</td>\n",
       "    </tr>\n",
       "    <tr>\n",
       "      <th>Early Morning</th>\n",
       "      <td>0.154893</td>\n",
       "    </tr>\n",
       "    <tr>\n",
       "      <th>Night</th>\n",
       "      <td>0.117086</td>\n",
       "    </tr>\n",
       "    <tr>\n",
       "      <th rowspan=\"6\" valign=\"top\">Monday</th>\n",
       "      <th>Afternoon</th>\n",
       "      <td>0.202649</td>\n",
       "    </tr>\n",
       "    <tr>\n",
       "      <th>Morning</th>\n",
       "      <td>0.194286</td>\n",
       "    </tr>\n",
       "    <tr>\n",
       "      <th>Evening</th>\n",
       "      <td>0.175320</td>\n",
       "    </tr>\n",
       "    <tr>\n",
       "      <th>Early Morning</th>\n",
       "      <td>0.170200</td>\n",
       "    </tr>\n",
       "    <tr>\n",
       "      <th>Late Night</th>\n",
       "      <td>0.149471</td>\n",
       "    </tr>\n",
       "    <tr>\n",
       "      <th>Night</th>\n",
       "      <td>0.108075</td>\n",
       "    </tr>\n",
       "    <tr>\n",
       "      <th rowspan=\"6\" valign=\"top\">Saturday</th>\n",
       "      <th>Evening</th>\n",
       "      <td>0.201953</td>\n",
       "    </tr>\n",
       "    <tr>\n",
       "      <th>Late Night</th>\n",
       "      <td>0.190285</td>\n",
       "    </tr>\n",
       "    <tr>\n",
       "      <th>Afternoon</th>\n",
       "      <td>0.177763</td>\n",
       "    </tr>\n",
       "    <tr>\n",
       "      <th>Morning</th>\n",
       "      <td>0.161424</td>\n",
       "    </tr>\n",
       "    <tr>\n",
       "      <th>Night</th>\n",
       "      <td>0.136034</td>\n",
       "    </tr>\n",
       "    <tr>\n",
       "      <th>Early Morning</th>\n",
       "      <td>0.132541</td>\n",
       "    </tr>\n",
       "    <tr>\n",
       "      <th rowspan=\"6\" valign=\"top\">Sunday</th>\n",
       "      <th>Late Night</th>\n",
       "      <td>0.200709</td>\n",
       "    </tr>\n",
       "    <tr>\n",
       "      <th>Afternoon</th>\n",
       "      <td>0.179831</td>\n",
       "    </tr>\n",
       "    <tr>\n",
       "      <th>Evening</th>\n",
       "      <td>0.178739</td>\n",
       "    </tr>\n",
       "    <tr>\n",
       "      <th>Morning</th>\n",
       "      <td>0.164088</td>\n",
       "    </tr>\n",
       "    <tr>\n",
       "      <th>Early Morning</th>\n",
       "      <td>0.149734</td>\n",
       "    </tr>\n",
       "    <tr>\n",
       "      <th>Night</th>\n",
       "      <td>0.126898</td>\n",
       "    </tr>\n",
       "    <tr>\n",
       "      <th rowspan=\"6\" valign=\"top\">Thursday</th>\n",
       "      <th>Afternoon</th>\n",
       "      <td>0.196653</td>\n",
       "    </tr>\n",
       "    <tr>\n",
       "      <th>Morning</th>\n",
       "      <td>0.189522</td>\n",
       "    </tr>\n",
       "    <tr>\n",
       "      <th>Evening</th>\n",
       "      <td>0.175089</td>\n",
       "    </tr>\n",
       "    <tr>\n",
       "      <th>Late Night</th>\n",
       "      <td>0.164862</td>\n",
       "    </tr>\n",
       "    <tr>\n",
       "      <th>Early Morning</th>\n",
       "      <td>0.164465</td>\n",
       "    </tr>\n",
       "    <tr>\n",
       "      <th>Night</th>\n",
       "      <td>0.109408</td>\n",
       "    </tr>\n",
       "    <tr>\n",
       "      <th rowspan=\"6\" valign=\"top\">Tuesday</th>\n",
       "      <th>Afternoon</th>\n",
       "      <td>0.199477</td>\n",
       "    </tr>\n",
       "    <tr>\n",
       "      <th>Morning</th>\n",
       "      <td>0.193943</td>\n",
       "    </tr>\n",
       "    <tr>\n",
       "      <th>Evening</th>\n",
       "      <td>0.175825</td>\n",
       "    </tr>\n",
       "    <tr>\n",
       "      <th>Early Morning</th>\n",
       "      <td>0.168077</td>\n",
       "    </tr>\n",
       "    <tr>\n",
       "      <th>Late Night</th>\n",
       "      <td>0.156789</td>\n",
       "    </tr>\n",
       "    <tr>\n",
       "      <th>Night</th>\n",
       "      <td>0.105889</td>\n",
       "    </tr>\n",
       "    <tr>\n",
       "      <th rowspan=\"6\" valign=\"top\">Wednesday</th>\n",
       "      <th>Morning</th>\n",
       "      <td>0.193491</td>\n",
       "    </tr>\n",
       "    <tr>\n",
       "      <th>Afternoon</th>\n",
       "      <td>0.192489</td>\n",
       "    </tr>\n",
       "    <tr>\n",
       "      <th>Evening</th>\n",
       "      <td>0.171839</td>\n",
       "    </tr>\n",
       "    <tr>\n",
       "      <th>Early Morning</th>\n",
       "      <td>0.170139</td>\n",
       "    </tr>\n",
       "    <tr>\n",
       "      <th>Late Night</th>\n",
       "      <td>0.165602</td>\n",
       "    </tr>\n",
       "    <tr>\n",
       "      <th>Night</th>\n",
       "      <td>0.106441</td>\n",
       "    </tr>\n",
       "  </tbody>\n",
       "</table>\n",
       "</div>"
      ],
      "text/plain": [
       "                            Call Time of Day\n",
       "Call Day  Call Time of Day                  \n",
       "Friday    Afternoon                 0.190080\n",
       "          Morning                   0.190039\n",
       "          Evening                   0.188595\n",
       "          Late Night                0.159307\n",
       "          Early Morning             0.154893\n",
       "          Night                     0.117086\n",
       "Monday    Afternoon                 0.202649\n",
       "          Morning                   0.194286\n",
       "          Evening                   0.175320\n",
       "          Early Morning             0.170200\n",
       "          Late Night                0.149471\n",
       "          Night                     0.108075\n",
       "Saturday  Evening                   0.201953\n",
       "          Late Night                0.190285\n",
       "          Afternoon                 0.177763\n",
       "          Morning                   0.161424\n",
       "          Night                     0.136034\n",
       "          Early Morning             0.132541\n",
       "Sunday    Late Night                0.200709\n",
       "          Afternoon                 0.179831\n",
       "          Evening                   0.178739\n",
       "          Morning                   0.164088\n",
       "          Early Morning             0.149734\n",
       "          Night                     0.126898\n",
       "Thursday  Afternoon                 0.196653\n",
       "          Morning                   0.189522\n",
       "          Evening                   0.175089\n",
       "          Late Night                0.164862\n",
       "          Early Morning             0.164465\n",
       "          Night                     0.109408\n",
       "Tuesday   Afternoon                 0.199477\n",
       "          Morning                   0.193943\n",
       "          Evening                   0.175825\n",
       "          Early Morning             0.168077\n",
       "          Late Night                0.156789\n",
       "          Night                     0.105889\n",
       "Wednesday Morning                   0.193491\n",
       "          Afternoon                 0.192489\n",
       "          Evening                   0.171839\n",
       "          Early Morning             0.170139\n",
       "          Late Night                0.165602\n",
       "          Night                     0.106441"
      ]
     },
     "execution_count": 20,
     "metadata": {},
     "output_type": "execute_result"
    }
   ],
   "source": [
    "df_time = df_new.groupby('Call Day')['Call Time of Day'].value_counts(normalize=True).to_frame()\n",
    "df_time"
   ]
  },
  {
   "cell_type": "code",
   "execution_count": 21,
   "metadata": {},
   "outputs": [
    {
     "data": {
      "text/html": [
       "<div>\n",
       "<style scoped>\n",
       "    .dataframe tbody tr th:only-of-type {\n",
       "        vertical-align: middle;\n",
       "    }\n",
       "\n",
       "    .dataframe tbody tr th {\n",
       "        vertical-align: top;\n",
       "    }\n",
       "\n",
       "    .dataframe thead tr th {\n",
       "        text-align: left;\n",
       "    }\n",
       "\n",
       "    .dataframe thead tr:last-of-type th {\n",
       "        text-align: right;\n",
       "    }\n",
       "</style>\n",
       "<table border=\"1\" class=\"dataframe\">\n",
       "  <thead>\n",
       "    <tr>\n",
       "      <th></th>\n",
       "      <th colspan=\"6\" halign=\"left\">Call Time of Day</th>\n",
       "    </tr>\n",
       "    <tr>\n",
       "      <th>Call Time of Day</th>\n",
       "      <th>Afternoon</th>\n",
       "      <th>Early Morning</th>\n",
       "      <th>Evening</th>\n",
       "      <th>Late Night</th>\n",
       "      <th>Morning</th>\n",
       "      <th>Night</th>\n",
       "    </tr>\n",
       "    <tr>\n",
       "      <th>Call Day</th>\n",
       "      <th></th>\n",
       "      <th></th>\n",
       "      <th></th>\n",
       "      <th></th>\n",
       "      <th></th>\n",
       "      <th></th>\n",
       "    </tr>\n",
       "  </thead>\n",
       "  <tbody>\n",
       "    <tr>\n",
       "      <th>Friday</th>\n",
       "      <td>0.190080</td>\n",
       "      <td>0.154893</td>\n",
       "      <td>0.188595</td>\n",
       "      <td>0.159307</td>\n",
       "      <td>0.190039</td>\n",
       "      <td>0.117086</td>\n",
       "    </tr>\n",
       "    <tr>\n",
       "      <th>Monday</th>\n",
       "      <td>0.202649</td>\n",
       "      <td>0.170200</td>\n",
       "      <td>0.175320</td>\n",
       "      <td>0.149471</td>\n",
       "      <td>0.194286</td>\n",
       "      <td>0.108075</td>\n",
       "    </tr>\n",
       "    <tr>\n",
       "      <th>Saturday</th>\n",
       "      <td>0.177763</td>\n",
       "      <td>0.132541</td>\n",
       "      <td>0.201953</td>\n",
       "      <td>0.190285</td>\n",
       "      <td>0.161424</td>\n",
       "      <td>0.136034</td>\n",
       "    </tr>\n",
       "    <tr>\n",
       "      <th>Sunday</th>\n",
       "      <td>0.179831</td>\n",
       "      <td>0.149734</td>\n",
       "      <td>0.178739</td>\n",
       "      <td>0.200709</td>\n",
       "      <td>0.164088</td>\n",
       "      <td>0.126898</td>\n",
       "    </tr>\n",
       "    <tr>\n",
       "      <th>Thursday</th>\n",
       "      <td>0.196653</td>\n",
       "      <td>0.164465</td>\n",
       "      <td>0.175089</td>\n",
       "      <td>0.164862</td>\n",
       "      <td>0.189522</td>\n",
       "      <td>0.109408</td>\n",
       "    </tr>\n",
       "    <tr>\n",
       "      <th>Tuesday</th>\n",
       "      <td>0.199477</td>\n",
       "      <td>0.168077</td>\n",
       "      <td>0.175825</td>\n",
       "      <td>0.156789</td>\n",
       "      <td>0.193943</td>\n",
       "      <td>0.105889</td>\n",
       "    </tr>\n",
       "    <tr>\n",
       "      <th>Wednesday</th>\n",
       "      <td>0.192489</td>\n",
       "      <td>0.170139</td>\n",
       "      <td>0.171839</td>\n",
       "      <td>0.165602</td>\n",
       "      <td>0.193491</td>\n",
       "      <td>0.106441</td>\n",
       "    </tr>\n",
       "  </tbody>\n",
       "</table>\n",
       "</div>"
      ],
      "text/plain": [
       "                 Call Time of Day                                     \\\n",
       "Call Time of Day        Afternoon Early Morning   Evening Late Night   \n",
       "Call Day                                                               \n",
       "Friday                   0.190080      0.154893  0.188595   0.159307   \n",
       "Monday                   0.202649      0.170200  0.175320   0.149471   \n",
       "Saturday                 0.177763      0.132541  0.201953   0.190285   \n",
       "Sunday                   0.179831      0.149734  0.178739   0.200709   \n",
       "Thursday                 0.196653      0.164465  0.175089   0.164862   \n",
       "Tuesday                  0.199477      0.168077  0.175825   0.156789   \n",
       "Wednesday                0.192489      0.170139  0.171839   0.165602   \n",
       "\n",
       "                                      \n",
       "Call Time of Day   Morning     Night  \n",
       "Call Day                              \n",
       "Friday            0.190039  0.117086  \n",
       "Monday            0.194286  0.108075  \n",
       "Saturday          0.161424  0.136034  \n",
       "Sunday            0.164088  0.126898  \n",
       "Thursday          0.189522  0.109408  \n",
       "Tuesday           0.193943  0.105889  \n",
       "Wednesday         0.193491  0.106441  "
      ]
     },
     "execution_count": 21,
     "metadata": {},
     "output_type": "execute_result"
    }
   ],
   "source": [
    "df_time.unstack()"
   ]
  },
  {
   "cell_type": "code",
   "execution_count": 22,
   "metadata": {
    "scrolled": false
   },
   "outputs": [
    {
     "data": {
      "text/plain": [
       "array(['Theft', 'Burglary - Non-Residence',\n",
       "       'Vehicle Accident - Property Damage',\n",
       "       'Want Officer for Investigation / Assistance', 'Fixed Post',\n",
       "       'Burglary - Residence', 'Suicidal Person',\n",
       "       'Administrative/Special Assignment', 'Shots Fired',\n",
       "       'Traffic Violation', 'Missing Person',\n",
       "       'Vehicle Accident - Personal Injury', 'Business Check',\n",
       "       'Disorderly Person', 'Safety Hazard',\n",
       "       'Transport Prisoner / Suspect', 'Holdup / Robbery',\n",
       "       'Fight / Assault', 'Mentally ILL Person',\n",
       "       'Community Policing Activity', 'Dangerous / Injured Animal',\n",
       "       'Fire', 'Suspicious Person', 'Corpse / D. O. A.',\n",
       "       'Vehicle Blocking Right of Way', 'Person Indecently Exposed',\n",
       "       'Intoxicated Person', 'Investigate 911 Hang-Up Call',\n",
       "       'Person Screaming', 'Meal Break', 'Person with Weapon', 'Shooting',\n",
       "       '50', 'Hazardous Liquid / Gas Leak', '3', 'Bank Robbery', '57',\n",
       "       '53', '44', 'Gang Activity', '64', '54', '70', 'Prowler', '96',\n",
       "       '43', 'Cutting / Stabbing', '95', 'Explosion', 'Personal Relief',\n",
       "       'Bomb Threat', '83', '92', '40', '93', '15', '71', 'Drowning',\n",
       "       '88', '58', '49', '87', '75', '62', '16', '45', '42', '73', '46',\n",
       "       '59', '63', '65', '35', '52', '61', '51', '14', '8000', '94', '66',\n",
       "       '85', 'Escort / Convoy', 'Riot / Disorderly Crowd', 'Kidnapping',\n",
       "       'Prisoner Escapee', 'Occult Activity', 'Barricaded Suspect',\n",
       "       'Train Derailment', 'Personnel in Serious Danger', 'Blood Run',\n",
       "       'Active Aggressor', 'Aircraft Crash'], dtype=object)"
      ]
     },
     "execution_count": 22,
     "metadata": {},
     "output_type": "execute_result"
    }
   ],
   "source": [
    "df_new['Tencode Description'].unique()"
   ]
  },
  {
   "cell_type": "code",
   "execution_count": 23,
   "metadata": {},
   "outputs": [
    {
     "data": {
      "text/plain": [
       "(960, 7)"
      ]
     },
     "execution_count": 23,
     "metadata": {},
     "output_type": "execute_result"
    }
   ],
   "source": [
    "df_new[df_new['Tencode Description'] == '3'].shape"
   ]
  },
  {
   "cell_type": "code",
   "execution_count": 24,
   "metadata": {},
   "outputs": [
    {
     "data": {
      "text/plain": [
       "(52458, 7)"
      ]
     },
     "execution_count": 24,
     "metadata": {},
     "output_type": "execute_result"
    }
   ],
   "source": [
    "df_new[df_new['Tencode Description'] == 'Administrative/Special Assignment'].shape"
   ]
  },
  {
   "cell_type": "code",
   "execution_count": 26,
   "metadata": {},
   "outputs": [],
   "source": [
    "td_replacements = {\n",
    "    '3': 'Administrative/Special Assignment',\n",
    "    '50': 'Theft',\n",
    "    '57': 'Fight / Assault',\n",
    "    '53': 'Holdup / Robbery',\n",
    "    '44': 'Disorderly Person',\n",
    "    '64': 'Corpse / D. O. A.',\n",
    "    '54': 'Person with Weapon',\n",
    "    '70': 'Burglary - Residence',\n",
    "    '96': 'Business Check',\n",
    "    '43': 'Want Officer for Investigation / Assistance',\n",
    "    '95': 'Meal Break',\n",
    "    '83': 'Shots Fired',\n",
    "    '92': 'Fixed Post',\n",
    "    '40': 'Suspicious Person',\n",
    "    '93': 'Traffic Violation',\n",
    "    '15': 'Community Policing Activity',\n",
    "    '71': 'Burglary - Non-Residence',\n",
    "    '88': 'Investigate 911 Hang-Up Call',\n",
    "    '58': 'Prowler',\n",
    "    '49': 'Vehicle Blocking Right of Way',\n",
    "    '87': 'Safety Hazard',\n",
    "    '75': 'Missing Person',\n",
    "    '62': 'Person Screaming',\n",
    "    '16': 'Transport Prisoner / Suspect',\n",
    "    '45': 'Vehicle Accident - Property Damage',\n",
    "    '42': 'Intoxicated Person',\n",
    "    '73': 'Hazardous Liquid / Gas Leak',\n",
    "    '46': 'Vehicle Accident - Personal Injury',\n",
    "    '59': 'Person Indecently Exposed',\n",
    "    '63': 'Suicidal Person',\n",
    "    '65': 'Dangerous / Injured Animal',\n",
    "    '35': 'Mentally ILL Person',\n",
    "    '52': 'Shooting',\n",
    "    '61': 'Fire',\n",
    "    '51': 'Cutting / Stabbing',\n",
    "    '14': 'Escort / Convoy',\n",
    "    '8000': 'Explosion',\n",
    "    '94': 'Personal Relief',\n",
    "    '66': 'Bomb Threat',\n",
    "    '85': 'Prisoner Escapee'\n",
    "}"
   ]
  },
  {
   "cell_type": "code",
   "execution_count": 27,
   "metadata": {},
   "outputs": [],
   "source": [
    "df_new['Tencode Description'] = df_new['Tencode Description'].map(td_replacements).fillna(df_new['Tencode Description'])"
   ]
  },
  {
   "cell_type": "code",
   "execution_count": 28,
   "metadata": {},
   "outputs": [
    {
     "data": {
      "text/plain": [
       "(0, 7)"
      ]
     },
     "execution_count": 28,
     "metadata": {},
     "output_type": "execute_result"
    }
   ],
   "source": [
    "df_new[df_new['Tencode Description'] == '3'].shape"
   ]
  },
  {
   "cell_type": "code",
   "execution_count": 29,
   "metadata": {},
   "outputs": [
    {
     "data": {
      "text/plain": [
       "(53418, 7)"
      ]
     },
     "execution_count": 29,
     "metadata": {},
     "output_type": "execute_result"
    }
   ],
   "source": [
    "df_new[df_new['Tencode Description'] == 'Administrative/Special Assignment'].shape"
   ]
  },
  {
   "cell_type": "code",
   "execution_count": 30,
   "metadata": {
    "scrolled": false
   },
   "outputs": [
    {
     "data": {
      "text/plain": [
       "array(['Theft', 'Burglary - Non-Residence',\n",
       "       'Vehicle Accident - Property Damage',\n",
       "       'Want Officer for Investigation / Assistance', 'Fixed Post',\n",
       "       'Burglary - Residence', 'Suicidal Person',\n",
       "       'Administrative/Special Assignment', 'Shots Fired',\n",
       "       'Traffic Violation', 'Missing Person',\n",
       "       'Vehicle Accident - Personal Injury', 'Business Check',\n",
       "       'Disorderly Person', 'Safety Hazard',\n",
       "       'Transport Prisoner / Suspect', 'Holdup / Robbery',\n",
       "       'Fight / Assault', 'Mentally ILL Person',\n",
       "       'Community Policing Activity', 'Dangerous / Injured Animal',\n",
       "       'Fire', 'Suspicious Person', 'Corpse / D. O. A.',\n",
       "       'Vehicle Blocking Right of Way', 'Person Indecently Exposed',\n",
       "       'Intoxicated Person', 'Investigate 911 Hang-Up Call',\n",
       "       'Person Screaming', 'Meal Break', 'Person with Weapon', 'Shooting',\n",
       "       'Hazardous Liquid / Gas Leak', 'Bank Robbery', 'Gang Activity',\n",
       "       'Prowler', 'Cutting / Stabbing', 'Explosion', 'Personal Relief',\n",
       "       'Bomb Threat', 'Drowning', 'Escort / Convoy', 'Prisoner Escapee',\n",
       "       'Riot / Disorderly Crowd', 'Kidnapping', 'Occult Activity',\n",
       "       'Barricaded Suspect', 'Train Derailment',\n",
       "       'Personnel in Serious Danger', 'Blood Run', 'Active Aggressor',\n",
       "       'Aircraft Crash'], dtype=object)"
      ]
     },
     "execution_count": 30,
     "metadata": {},
     "output_type": "execute_result"
    }
   ],
   "source": [
    "df_new['Tencode Description'].unique()"
   ]
  },
  {
   "cell_type": "code",
   "execution_count": 31,
   "metadata": {},
   "outputs": [
    {
     "data": {
      "text/plain": [
       "Want Officer for Investigation / Assistance    173126\n",
       "Business Check                                 147235\n",
       "Community Policing Activity                     60608\n",
       "Administrative/Special Assignment               53418\n",
       "Traffic Violation                               43541\n",
       "Vehicle Accident - Property Damage              39224\n",
       "Disorderly Person                               39038\n",
       "Theft                                           37715\n",
       "Safety Hazard                                   32105\n",
       "Suspicious Person                               25206\n",
       "Burglary - Residence                            24606\n",
       "Burglary - Non-Residence                        22319\n",
       "Investigate 911 Hang-Up Call                    15670\n",
       "Vehicle Accident - Personal Injury              10640\n",
       "Vehicle Blocking Right of Way                    8797\n",
       "Fight / Assault                                  8308\n",
       "Shots Fired                                      6616\n",
       "Fixed Post                                       5225\n",
       "Holdup / Robbery                                 4051\n",
       "Missing Person                                   3654\n",
       "Person with Weapon                               3353\n",
       "Suicidal Person                                  3122\n",
       "Dangerous / Injured Animal                       2893\n",
       "Transport Prisoner / Suspect                     2878\n",
       "Meal Break                                       2400\n",
       "Intoxicated Person                               2088\n",
       "Corpse / D. O. A.                                1156\n",
       "Mentally ILL Person                               969\n",
       "Person Indecently Exposed                         919\n",
       "Person Screaming                                  659\n",
       "Shooting                                          585\n",
       "Fire                                              579\n",
       "Escort / Convoy                                   556\n",
       "Prowler                                           413\n",
       "Hazardous Liquid / Gas Leak                       315\n",
       "Personal Relief                                   279\n",
       "Cutting / Stabbing                                254\n",
       "Bank Robbery                                      150\n",
       "Kidnapping                                        140\n",
       "Explosion                                          50\n",
       "Bomb Threat                                        33\n",
       "Gang Activity                                      32\n",
       "Barricaded Suspect                                 29\n",
       "Personnel in Serious Danger                        26\n",
       "Drowning                                           26\n",
       "Prisoner Escapee                                   17\n",
       "Active Aggressor                                    4\n",
       "Riot / Disorderly Crowd                             3\n",
       "Blood Run                                           2\n",
       "Aircraft Crash                                      1\n",
       "Occult Activity                                     1\n",
       "Train Derailment                                    1\n",
       "Name: Tencode Description, dtype: int64"
      ]
     },
     "execution_count": 31,
     "metadata": {},
     "output_type": "execute_result"
    }
   ],
   "source": [
    "df_new['Tencode Description'].value_counts()"
   ]
  },
  {
   "cell_type": "code",
   "execution_count": 33,
   "metadata": {},
   "outputs": [
    {
     "data": {
      "text/plain": [
       "<matplotlib.axes._subplots.AxesSubplot at 0x10d2123c8>"
      ]
     },
     "execution_count": 33,
     "metadata": {},
     "output_type": "execute_result"
    },
    {
     "data": {
      "image/png": "[encoded data removed]",
      "text/plain": [
       "<Figure size 432x288 with 1 Axes>"
      ]
     },
     "metadata": {
      "needs_background": "light"
     },
     "output_type": "display_data"
    }
   ],
   "source": [
    "df_new['Tencode Description'].value_counts(normalize=True).head(5).plot(kind='bar')"
   ]
  },
  {
   "cell_type": "code",
   "execution_count": 44,
   "metadata": {},
   "outputs": [],
   "source": [
    "df_top5_calls = df_new[\n",
    "    (df_new['Tencode Description'] == 'Want Officer for Investigation / Assistance') |\n",
    "    (df_new['Tencode Description'] == 'Business Check') |\n",
    "    (df_new['Tencode Description'] == 'Community Policing Activity') |\n",
    "    (df_new['Tencode Description'] == 'Administrative/Special Assignment') |\n",
    "    (df_new['Tencode Description'] == 'Traffic Violation')\n",
    "]"
   ]
  },
  {
   "cell_type": "code",
   "execution_count": 46,
   "metadata": {},
   "outputs": [
    {
     "data": {
      "text/plain": [
       "(477928, 7)"
      ]
     },
     "execution_count": 46,
     "metadata": {},
     "output_type": "execute_result"
    }
   ],
   "source": [
    "df_top5_calls.shape"
   ]
  },
  {
   "cell_type": "code",
   "execution_count": 47,
   "metadata": {},
   "outputs": [
    {
     "data": {
      "text/html": [
       "<div>\n",
       "<style scoped>\n",
       "    .dataframe tbody tr th:only-of-type {\n",
       "        vertical-align: middle;\n",
       "    }\n",
       "\n",
       "    .dataframe tbody tr th {\n",
       "        vertical-align: top;\n",
       "    }\n",
       "\n",
       "    .dataframe thead th {\n",
       "        text-align: right;\n",
       "    }\n",
       "</style>\n",
       "<table border=\"1\" class=\"dataframe\">\n",
       "  <thead>\n",
       "    <tr style=\"text-align: right;\">\n",
       "      <th></th>\n",
       "      <th>Call Received</th>\n",
       "      <th>Call Time</th>\n",
       "      <th>Call Day</th>\n",
       "      <th>Call Time of Day</th>\n",
       "      <th>Tencode Description</th>\n",
       "      <th>Disposition Description</th>\n",
       "      <th>Mapped Location</th>\n",
       "    </tr>\n",
       "    <tr>\n",
       "      <th>Event Number</th>\n",
       "      <th></th>\n",
       "      <th></th>\n",
       "      <th></th>\n",
       "      <th></th>\n",
       "      <th></th>\n",
       "      <th></th>\n",
       "      <th></th>\n",
       "    </tr>\n",
       "  </thead>\n",
       "  <tbody>\n",
       "    <tr>\n",
       "      <th>PD201900148353</th>\n",
       "      <td>2019-02-17 04:31:56</td>\n",
       "      <td>04:31:56</td>\n",
       "      <td>Sunday</td>\n",
       "      <td>Late Night</td>\n",
       "      <td>Want Officer for Investigation / Assistance</td>\n",
       "      <td>ADVISED IN CIVIL CASE</td>\n",
       "      <td>(36.172, -86.772)</td>\n",
       "    </tr>\n",
       "    <tr>\n",
       "      <th>PD201900149310</th>\n",
       "      <td>2019-02-17 15:30:43</td>\n",
       "      <td>15:30:43</td>\n",
       "      <td>Sunday</td>\n",
       "      <td>Afternoon</td>\n",
       "      <td>Want Officer for Investigation / Assistance</td>\n",
       "      <td>ASSISTED CITIZEN</td>\n",
       "      <td>(36.176, -86.794)</td>\n",
       "    </tr>\n",
       "    <tr>\n",
       "      <th>PD201900149501</th>\n",
       "      <td>2019-02-17 17:20:15</td>\n",
       "      <td>17:20:15</td>\n",
       "      <td>Sunday</td>\n",
       "      <td>Evening</td>\n",
       "      <td>Want Officer for Investigation / Assistance</td>\n",
       "      <td>DISREGARD / SIGNAL 9</td>\n",
       "      <td>(36.28, -86.835)</td>\n",
       "    </tr>\n",
       "    <tr>\n",
       "      <th>PD201900149422</th>\n",
       "      <td>2019-02-17 16:37:19</td>\n",
       "      <td>16:37:19</td>\n",
       "      <td>Sunday</td>\n",
       "      <td>Afternoon</td>\n",
       "      <td>Want Officer for Investigation / Assistance</td>\n",
       "      <td>M.P.D. REPORT COMPLED</td>\n",
       "      <td>(36.223, -86.809)</td>\n",
       "    </tr>\n",
       "    <tr>\n",
       "      <th>PD201900148579</th>\n",
       "      <td>2019-02-17 07:06:20</td>\n",
       "      <td>07:06:20</td>\n",
       "      <td>Sunday</td>\n",
       "      <td>Early Morning</td>\n",
       "      <td>Administrative/Special Assignment</td>\n",
       "      <td>ASSISTED CITIZEN</td>\n",
       "      <td>(36.166, -86.782)</td>\n",
       "    </tr>\n",
       "    <tr>\n",
       "      <th>PD201900147906</th>\n",
       "      <td>2019-02-17 00:26:41</td>\n",
       "      <td>00:26:41</td>\n",
       "      <td>Sunday</td>\n",
       "      <td>Late Night</td>\n",
       "      <td>Traffic Violation</td>\n",
       "      <td>SUBJECT WARNED</td>\n",
       "      <td>(36.191, -86.745)</td>\n",
       "    </tr>\n",
       "    <tr>\n",
       "      <th>PD201900148817</th>\n",
       "      <td>2019-02-17 09:57:22</td>\n",
       "      <td>09:57:22</td>\n",
       "      <td>Sunday</td>\n",
       "      <td>Morning</td>\n",
       "      <td>Business Check</td>\n",
       "      <td>COMMUNITY POLICING</td>\n",
       "      <td>(36.152, -86.834)</td>\n",
       "    </tr>\n",
       "    <tr>\n",
       "      <th>PD201900148767</th>\n",
       "      <td>2019-02-17 09:30:04</td>\n",
       "      <td>09:30:04</td>\n",
       "      <td>Sunday</td>\n",
       "      <td>Morning</td>\n",
       "      <td>Administrative/Special Assignment</td>\n",
       "      <td>ASSISTED CITIZEN</td>\n",
       "      <td>(36.171, -86.807)</td>\n",
       "    </tr>\n",
       "    <tr>\n",
       "      <th>PD201900149324</th>\n",
       "      <td>2019-02-17 15:37:42</td>\n",
       "      <td>15:37:42</td>\n",
       "      <td>Sunday</td>\n",
       "      <td>Afternoon</td>\n",
       "      <td>Business Check</td>\n",
       "      <td>LOCATION/BUILDING SECURE</td>\n",
       "      <td>NaN</td>\n",
       "    </tr>\n",
       "    <tr>\n",
       "      <th>PD201900148714</th>\n",
       "      <td>2019-02-17 08:59:17</td>\n",
       "      <td>08:59:17</td>\n",
       "      <td>Sunday</td>\n",
       "      <td>Early Morning</td>\n",
       "      <td>Want Officer for Investigation / Assistance</td>\n",
       "      <td>ASSISTED CITIZEN</td>\n",
       "      <td>(36.122, -86.705)</td>\n",
       "    </tr>\n",
       "  </tbody>\n",
       "</table>\n",
       "</div>"
      ],
      "text/plain": [
       "                     Call Received Call Time Call Day Call Time of Day  \\\n",
       "Event Number                                                             \n",
       "PD201900148353 2019-02-17 04:31:56  04:31:56   Sunday       Late Night   \n",
       "PD201900149310 2019-02-17 15:30:43  15:30:43   Sunday        Afternoon   \n",
       "PD201900149501 2019-02-17 17:20:15  17:20:15   Sunday          Evening   \n",
       "PD201900149422 2019-02-17 16:37:19  16:37:19   Sunday        Afternoon   \n",
       "PD201900148579 2019-02-17 07:06:20  07:06:20   Sunday    Early Morning   \n",
       "PD201900147906 2019-02-17 00:26:41  00:26:41   Sunday       Late Night   \n",
       "PD201900148817 2019-02-17 09:57:22  09:57:22   Sunday          Morning   \n",
       "PD201900148767 2019-02-17 09:30:04  09:30:04   Sunday          Morning   \n",
       "PD201900149324 2019-02-17 15:37:42  15:37:42   Sunday        Afternoon   \n",
       "PD201900148714 2019-02-17 08:59:17  08:59:17   Sunday    Early Morning   \n",
       "\n",
       "                                        Tencode Description  \\\n",
       "Event Number                                                  \n",
       "PD201900148353  Want Officer for Investigation / Assistance   \n",
       "PD201900149310  Want Officer for Investigation / Assistance   \n",
       "PD201900149501  Want Officer for Investigation / Assistance   \n",
       "PD201900149422  Want Officer for Investigation / Assistance   \n",
       "PD201900148579            Administrative/Special Assignment   \n",
       "PD201900147906                            Traffic Violation   \n",
       "PD201900148817                               Business Check   \n",
       "PD201900148767            Administrative/Special Assignment   \n",
       "PD201900149324                               Business Check   \n",
       "PD201900148714  Want Officer for Investigation / Assistance   \n",
       "\n",
       "                 Disposition Description    Mapped Location  \n",
       "Event Number                                                 \n",
       "PD201900148353     ADVISED IN CIVIL CASE  (36.172, -86.772)  \n",
       "PD201900149310          ASSISTED CITIZEN  (36.176, -86.794)  \n",
       "PD201900149501      DISREGARD / SIGNAL 9   (36.28, -86.835)  \n",
       "PD201900149422     M.P.D. REPORT COMPLED  (36.223, -86.809)  \n",
       "PD201900148579          ASSISTED CITIZEN  (36.166, -86.782)  \n",
       "PD201900147906            SUBJECT WARNED  (36.191, -86.745)  \n",
       "PD201900148817        COMMUNITY POLICING  (36.152, -86.834)  \n",
       "PD201900148767          ASSISTED CITIZEN  (36.171, -86.807)  \n",
       "PD201900149324  LOCATION/BUILDING SECURE                NaN  \n",
       "PD201900148714          ASSISTED CITIZEN  (36.122, -86.705)  "
      ]
     },
     "execution_count": 47,
     "metadata": {},
     "output_type": "execute_result"
    }
   ],
   "source": [
    "df_top5_calls.head(10)"
   ]
  },
  {
   "cell_type": "code",
   "execution_count": 52,
   "metadata": {},
   "outputs": [],
   "source": [
    "df_top_call = df_top5_calls[df_top5_calls['Tencode Description'] == 'Want Officer for Investigation / Assistance']"
   ]
  },
  {
   "cell_type": "code",
   "execution_count": 54,
   "metadata": {},
   "outputs": [
    {
     "data": {
      "text/plain": [
       "(173126, 7)"
      ]
     },
     "execution_count": 54,
     "metadata": {},
     "output_type": "execute_result"
    }
   ],
   "source": [
    "df_top_call.shape"
   ]
  },
  {
   "cell_type": "code",
   "execution_count": 58,
   "metadata": {},
   "outputs": [
    {
     "data": {
      "text/plain": [
       "Tuesday      0.163962\n",
       "Wednesday    0.157446\n",
       "Thursday     0.155222\n",
       "Monday       0.148349\n",
       "Friday       0.147869\n",
       "Saturday     0.117989\n",
       "Sunday       0.109163\n",
       "Name: Call Day, dtype: float64"
      ]
     },
     "execution_count": 58,
     "metadata": {},
     "output_type": "execute_result"
    }
   ],
   "source": [
    "df_top_call['Call Day'].value_counts(normalize=True)"
   ]
  },
  {
   "cell_type": "code",
   "execution_count": 59,
   "metadata": {},
   "outputs": [
    {
     "data": {
      "text/plain": [
       "Afternoon        0.217229\n",
       "Evening          0.213249\n",
       "Morning          0.198064\n",
       "Late Night       0.130327\n",
       "Night            0.126469\n",
       "Early Morning    0.114662\n",
       "Name: Call Time of Day, dtype: float64"
      ]
     },
     "execution_count": 59,
     "metadata": {},
     "output_type": "execute_result"
    }
   ],
   "source": [
    "df_top_call['Call Time of Day'].value_counts(normalize=True)"
   ]
  },
  {
   "cell_type": "code",
   "execution_count": 60,
   "metadata": {},
   "outputs": [
    {
     "data": {
      "text/html": [
       "<div>\n",
       "<style scoped>\n",
       "    .dataframe tbody tr th:only-of-type {\n",
       "        vertical-align: middle;\n",
       "    }\n",
       "\n",
       "    .dataframe tbody tr th {\n",
       "        vertical-align: top;\n",
       "    }\n",
       "\n",
       "    .dataframe thead tr th {\n",
       "        text-align: left;\n",
       "    }\n",
       "\n",
       "    .dataframe thead tr:last-of-type th {\n",
       "        text-align: right;\n",
       "    }\n",
       "</style>\n",
       "<table border=\"1\" class=\"dataframe\">\n",
       "  <thead>\n",
       "    <tr>\n",
       "      <th></th>\n",
       "      <th colspan=\"6\" halign=\"left\">Call Time of Day</th>\n",
       "    </tr>\n",
       "    <tr>\n",
       "      <th>Call Time of Day</th>\n",
       "      <th>Afternoon</th>\n",
       "      <th>Early Morning</th>\n",
       "      <th>Evening</th>\n",
       "      <th>Late Night</th>\n",
       "      <th>Morning</th>\n",
       "      <th>Night</th>\n",
       "    </tr>\n",
       "    <tr>\n",
       "      <th>Call Day</th>\n",
       "      <th></th>\n",
       "      <th></th>\n",
       "      <th></th>\n",
       "      <th></th>\n",
       "      <th></th>\n",
       "      <th></th>\n",
       "    </tr>\n",
       "  </thead>\n",
       "  <tbody>\n",
       "    <tr>\n",
       "      <th>Friday</th>\n",
       "      <td>0.211758</td>\n",
       "      <td>0.117109</td>\n",
       "      <td>0.204570</td>\n",
       "      <td>0.125117</td>\n",
       "      <td>0.208828</td>\n",
       "      <td>0.132617</td>\n",
       "    </tr>\n",
       "    <tr>\n",
       "      <th>Monday</th>\n",
       "      <td>0.229841</td>\n",
       "      <td>0.114589</td>\n",
       "      <td>0.215318</td>\n",
       "      <td>0.106841</td>\n",
       "      <td>0.212942</td>\n",
       "      <td>0.120469</td>\n",
       "    </tr>\n",
       "    <tr>\n",
       "      <th>Saturday</th>\n",
       "      <td>0.195672</td>\n",
       "      <td>0.110295</td>\n",
       "      <td>0.207666</td>\n",
       "      <td>0.174769</td>\n",
       "      <td>0.165614</td>\n",
       "      <td>0.145983</td>\n",
       "    </tr>\n",
       "    <tr>\n",
       "      <th>Sunday</th>\n",
       "      <td>0.193926</td>\n",
       "      <td>0.110694</td>\n",
       "      <td>0.212815</td>\n",
       "      <td>0.193873</td>\n",
       "      <td>0.160273</td>\n",
       "      <td>0.128419</td>\n",
       "    </tr>\n",
       "    <tr>\n",
       "      <th>Thursday</th>\n",
       "      <td>0.225282</td>\n",
       "      <td>0.119227</td>\n",
       "      <td>0.213560</td>\n",
       "      <td>0.118855</td>\n",
       "      <td>0.201317</td>\n",
       "      <td>0.121758</td>\n",
       "    </tr>\n",
       "    <tr>\n",
       "      <th>Tuesday</th>\n",
       "      <td>0.228634</td>\n",
       "      <td>0.115656</td>\n",
       "      <td>0.220038</td>\n",
       "      <td>0.108363</td>\n",
       "      <td>0.206722</td>\n",
       "      <td>0.120588</td>\n",
       "    </tr>\n",
       "    <tr>\n",
       "      <th>Wednesday</th>\n",
       "      <td>0.222980</td>\n",
       "      <td>0.112921</td>\n",
       "      <td>0.216560</td>\n",
       "      <td>0.114168</td>\n",
       "      <td>0.212231</td>\n",
       "      <td>0.121139</td>\n",
       "    </tr>\n",
       "  </tbody>\n",
       "</table>\n",
       "</div>"
      ],
      "text/plain": [
       "                 Call Time of Day                                     \\\n",
       "Call Time of Day        Afternoon Early Morning   Evening Late Night   \n",
       "Call Day                                                               \n",
       "Friday                   0.211758      0.117109  0.204570   0.125117   \n",
       "Monday                   0.229841      0.114589  0.215318   0.106841   \n",
       "Saturday                 0.195672      0.110295  0.207666   0.174769   \n",
       "Sunday                   0.193926      0.110694  0.212815   0.193873   \n",
       "Thursday                 0.225282      0.119227  0.213560   0.118855   \n",
       "Tuesday                  0.228634      0.115656  0.220038   0.108363   \n",
       "Wednesday                0.222980      0.112921  0.216560   0.114168   \n",
       "\n",
       "                                      \n",
       "Call Time of Day   Morning     Night  \n",
       "Call Day                              \n",
       "Friday            0.208828  0.132617  \n",
       "Monday            0.212942  0.120469  \n",
       "Saturday          0.165614  0.145983  \n",
       "Sunday            0.160273  0.128419  \n",
       "Thursday          0.201317  0.121758  \n",
       "Tuesday           0.206722  0.120588  \n",
       "Wednesday         0.212231  0.121139  "
      ]
     },
     "execution_count": 60,
     "metadata": {},
     "output_type": "execute_result"
    }
   ],
   "source": [
    "df_top_call = df_top5_calls[df_top5_calls['Tencode Description'] == 'Want Officer for Investigation / Assistance'].groupby('Call Day')['Call Time of Day'].value_counts(normalize=True).to_frame()\n",
    "df_top_call.unstack()"
   ]
  },
  {
   "cell_type": "code",
   "execution_count": 65,
   "metadata": {},
   "outputs": [
    {
     "data": {
      "text/plain": [
       "ASSISTED CITIZEN                 0.203838\n",
       "LOCATION/BUILDING SECURE         0.149268\n",
       "COMMUNITY POLICING               0.144566\n",
       "DISREGARD / SIGNAL 9             0.126071\n",
       "M.P.D. REPORT COMPLED            0.098170\n",
       "ASSISTED OTHER UNIT              0.089915\n",
       "GONE ON ARRIVAL                  0.062369\n",
       "SUBJECT WARNED                   0.052728\n",
       "CITATION - TRAFFIC               0.024938\n",
       "NO RESPONSE                      0.020463\n",
       "FALSE CALL                       0.011803\n",
       "ARREST, CUSTODIAL OR CITATION    0.008445\n",
       "ASSISTANCE REFUSED               0.003612\n",
       "ADVISED IN CIVIL CASE            0.002335\n",
       "ADVISORY / NOTICE FORM GIVEN     0.001479\n",
       "Name: Disposition Description, dtype: float64"
      ]
     },
     "execution_count": 65,
     "metadata": {},
     "output_type": "execute_result"
    }
   ],
   "source": [
    "df_new['Disposition Description'].value_counts(normalize=True)\n",
    "#top 5 account for 72% of all calls"
   ]
  },
  {
   "cell_type": "code",
   "execution_count": null,
   "metadata": {},
   "outputs": [],
   "source": []
  }
 ],
 "metadata": {
  "kernelspec": {
   "display_name": "Python 3",
   "language": "python",
   "name": "python3"
  },
  "language_info": {
   "codemirror_mode": {
    "name": "ipython",
    "version": 3
   },
   "file_extension": ".py",
   "mimetype": "text/x-python",
   "name": "python",
   "nbconvert_exporter": "python",
   "pygments_lexer": "ipython3",
   "version": "3.7.0"
  }
 },
 "nbformat": 4,
 "nbformat_minor": 2
}

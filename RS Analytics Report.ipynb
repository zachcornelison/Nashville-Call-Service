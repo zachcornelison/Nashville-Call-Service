{
 "cells": [
  {
   "cell_type": "code",
   "execution_count": 1,
   "metadata": {},
   "outputs": [],
   "source": [
    "#imports\n",
    "import pandas as pd\n",
    "import seaborn as sns\n",
    "import numpy as np\n",
    "from matplotlib import pyplot"
   ]
  },
  {
   "cell_type": "code",
   "execution_count": 2,
   "metadata": {},
   "outputs": [],
   "source": [
    "df = pd.read_csv(\"Metro_Nashville_Police_Department_Calls_for_Service__2019_.csv\")"
   ]
  },
  {
   "cell_type": "code",
   "execution_count": 3,
   "metadata": {},
   "outputs": [
    {
     "data": {
      "text/html": [
       "<div>\n",
       "<style scoped>\n",
       "    .dataframe tbody tr th:only-of-type {\n",
       "        vertical-align: middle;\n",
       "    }\n",
       "\n",
       "    .dataframe tbody tr th {\n",
       "        vertical-align: top;\n",
       "    }\n",
       "\n",
       "    .dataframe thead th {\n",
       "        text-align: right;\n",
       "    }\n",
       "</style>\n",
       "<table border=\"1\" class=\"dataframe\">\n",
       "  <thead>\n",
       "    <tr style=\"text-align: right;\">\n",
       "      <th></th>\n",
       "      <th>Event Number</th>\n",
       "      <th>Call Received</th>\n",
       "      <th>Complaint Number</th>\n",
       "      <th>Shift</th>\n",
       "      <th>Tencode</th>\n",
       "      <th>Tencode Description</th>\n",
       "      <th>Tencode Suffix</th>\n",
       "      <th>Tencode Suffix Description</th>\n",
       "      <th>Disposition Code</th>\n",
       "      <th>Disposition Description</th>\n",
       "      <th>Block</th>\n",
       "      <th>Street Name</th>\n",
       "      <th>Unit Dispatched</th>\n",
       "      <th>Sector</th>\n",
       "      <th>Zone</th>\n",
       "      <th>RPA</th>\n",
       "      <th>Latitude</th>\n",
       "      <th>Longitude</th>\n",
       "      <th>Mapped Location</th>\n",
       "    </tr>\n",
       "  </thead>\n",
       "  <tbody>\n",
       "    <tr>\n",
       "      <th>0</th>\n",
       "      <td>PD201900158507</td>\n",
       "      <td>02/20/2019 10:44:46 AM</td>\n",
       "      <td>20190138459</td>\n",
       "      <td>A</td>\n",
       "      <td>50</td>\n",
       "      <td>Theft</td>\n",
       "      <td>R</td>\n",
       "      <td>REPORT</td>\n",
       "      <td>1</td>\n",
       "      <td>M.P.D. REPORT COMPLED</td>\n",
       "      <td>NaN</td>\n",
       "      <td>E CAMPBELL RD</td>\n",
       "      <td>MAPR</td>\n",
       "      <td>NaN</td>\n",
       "      <td>NaN</td>\n",
       "      <td>NaN</td>\n",
       "      <td>NaN</td>\n",
       "      <td>NaN</td>\n",
       "      <td>NaN</td>\n",
       "    </tr>\n",
       "    <tr>\n",
       "      <th>1</th>\n",
       "      <td>PD201900135069</td>\n",
       "      <td>02/13/2019 01:10:45 AM</td>\n",
       "      <td>20190117840</td>\n",
       "      <td>C</td>\n",
       "      <td>71</td>\n",
       "      <td>Burglary - Non-Residence</td>\n",
       "      <td>A</td>\n",
       "      <td>ALARM</td>\n",
       "      <td>6</td>\n",
       "      <td>ASSISTED OTHER UNIT</td>\n",
       "      <td>NaN</td>\n",
       "      <td>CHARLOTTE PKE</td>\n",
       "      <td>123C</td>\n",
       "      <td>NaN</td>\n",
       "      <td>NaN</td>\n",
       "      <td>NaN</td>\n",
       "      <td>NaN</td>\n",
       "      <td>NaN</td>\n",
       "      <td>NaN</td>\n",
       "    </tr>\n",
       "    <tr>\n",
       "      <th>2</th>\n",
       "      <td>PD201900149088</td>\n",
       "      <td>02/17/2019 12:47:28 PM</td>\n",
       "      <td>20190130236</td>\n",
       "      <td>A</td>\n",
       "      <td>50</td>\n",
       "      <td>Theft</td>\n",
       "      <td>R</td>\n",
       "      <td>REPORT</td>\n",
       "      <td>1</td>\n",
       "      <td>M.P.D. REPORT COMPLED</td>\n",
       "      <td>NaN</td>\n",
       "      <td>CHAPEL AV</td>\n",
       "      <td>213B</td>\n",
       "      <td>NaN</td>\n",
       "      <td>NaN</td>\n",
       "      <td>NaN</td>\n",
       "      <td>NaN</td>\n",
       "      <td>NaN</td>\n",
       "      <td>NaN</td>\n",
       "    </tr>\n",
       "    <tr>\n",
       "      <th>3</th>\n",
       "      <td>PD201900148900</td>\n",
       "      <td>02/17/2019 10:46:09 AM</td>\n",
       "      <td>20190129933</td>\n",
       "      <td>A</td>\n",
       "      <td>45</td>\n",
       "      <td>Vehicle Accident - Property Damage</td>\n",
       "      <td>P</td>\n",
       "      <td>PROGRESS</td>\n",
       "      <td>6</td>\n",
       "      <td>ASSISTED OTHER UNIT</td>\n",
       "      <td>1200.0</td>\n",
       "      <td>2ND AV N</td>\n",
       "      <td>410A</td>\n",
       "      <td>C</td>\n",
       "      <td>13</td>\n",
       "      <td>4315.0</td>\n",
       "      <td>36.178</td>\n",
       "      <td>-86.785</td>\n",
       "      <td>(36.178, -86.785)</td>\n",
       "    </tr>\n",
       "    <tr>\n",
       "      <th>4</th>\n",
       "      <td>PD201900148353</td>\n",
       "      <td>02/17/2019 04:31:56 AM</td>\n",
       "      <td>20190129434</td>\n",
       "      <td>C</td>\n",
       "      <td>43</td>\n",
       "      <td>Want Officer for Investigation / Assistance</td>\n",
       "      <td>P</td>\n",
       "      <td>PROGRESS</td>\n",
       "      <td>8</td>\n",
       "      <td>ADVISED IN CIVIL CASE</td>\n",
       "      <td>100.0</td>\n",
       "      <td>N 1ST ST</td>\n",
       "      <td>415C</td>\n",
       "      <td>C</td>\n",
       "      <td>13</td>\n",
       "      <td>1993.0</td>\n",
       "      <td>36.172</td>\n",
       "      <td>-86.772</td>\n",
       "      <td>(36.172, -86.772)</td>\n",
       "    </tr>\n",
       "  </tbody>\n",
       "</table>\n",
       "</div>"
      ],
      "text/plain": [
       "     Event Number           Call Received  Complaint Number Shift  Tencode  \\\n",
       "0  PD201900158507  02/20/2019 10:44:46 AM       20190138459     A       50   \n",
       "1  PD201900135069  02/13/2019 01:10:45 AM       20190117840     C       71   \n",
       "2  PD201900149088  02/17/2019 12:47:28 PM       20190130236     A       50   \n",
       "3  PD201900148900  02/17/2019 10:46:09 AM       20190129933     A       45   \n",
       "4  PD201900148353  02/17/2019 04:31:56 AM       20190129434     C       43   \n",
       "\n",
       "                           Tencode Description Tencode Suffix  \\\n",
       "0                                        Theft              R   \n",
       "1                     Burglary - Non-Residence              A   \n",
       "2                                        Theft              R   \n",
       "3           Vehicle Accident - Property Damage              P   \n",
       "4  Want Officer for Investigation / Assistance              P   \n",
       "\n",
       "  Tencode Suffix Description  Disposition Code Disposition Description  \\\n",
       "0                     REPORT                 1   M.P.D. REPORT COMPLED   \n",
       "1                      ALARM                 6     ASSISTED OTHER UNIT   \n",
       "2                     REPORT                 1   M.P.D. REPORT COMPLED   \n",
       "3                   PROGRESS                 6     ASSISTED OTHER UNIT   \n",
       "4                   PROGRESS                 8   ADVISED IN CIVIL CASE   \n",
       "\n",
       "    Block     Street Name Unit Dispatched Sector Zone     RPA  Latitude  \\\n",
       "0     NaN  E CAMPBELL RD             MAPR    NaN  NaN     NaN       NaN   \n",
       "1     NaN  CHARLOTTE PKE             123C    NaN  NaN     NaN       NaN   \n",
       "2     NaN      CHAPEL AV             213B    NaN  NaN     NaN       NaN   \n",
       "3  1200.0       2ND AV N             410A      C   13  4315.0    36.178   \n",
       "4   100.0       N 1ST ST             415C      C   13  1993.0    36.172   \n",
       "\n",
       "   Longitude    Mapped Location  \n",
       "0        NaN                NaN  \n",
       "1        NaN                NaN  \n",
       "2        NaN                NaN  \n",
       "3    -86.785  (36.178, -86.785)  \n",
       "4    -86.772  (36.172, -86.772)  "
      ]
     },
     "execution_count": 3,
     "metadata": {},
     "output_type": "execute_result"
    }
   ],
   "source": [
    "df.head()"
   ]
  },
  {
   "cell_type": "code",
   "execution_count": 8,
   "metadata": {
    "scrolled": true
   },
   "outputs": [
    {
     "data": {
      "text/plain": [
       "(785035, 19)"
      ]
     },
     "execution_count": 8,
     "metadata": {},
     "output_type": "execute_result"
    }
   ],
   "source": [
    "df.shape"
   ]
  },
  {
   "cell_type": "code",
   "execution_count": 14,
   "metadata": {
    "scrolled": true
   },
   "outputs": [
    {
     "data": {
      "text/plain": [
       "Event Number                  785035\n",
       "Call Received                 785035\n",
       "Complaint Number              785035\n",
       "Shift                         754497\n",
       "Tencode                       785035\n",
       "Tencode Description           785035\n",
       "Tencode Suffix                567571\n",
       "Tencode Suffix Description    546827\n",
       "Disposition Code              785035\n",
       "Disposition Description       783773\n",
       "Block                         760586\n",
       "Street Name                   785029\n",
       "Unit Dispatched               736217\n",
       "Sector                        752994\n",
       "Zone                          759604\n",
       "RPA                           759725\n",
       "Latitude                      757275\n",
       "Longitude                     757275\n",
       "Mapped Location               754258\n",
       "dtype: int64"
      ]
     },
     "execution_count": 14,
     "metadata": {},
     "output_type": "execute_result"
    }
   ],
   "source": [
    "df.count()"
   ]
  },
  {
   "cell_type": "code",
   "execution_count": 15,
   "metadata": {},
   "outputs": [
    {
     "data": {
      "text/plain": [
       "Event Number                  785035\n",
       "Call Received                 763745\n",
       "Complaint Number              734935\n",
       "Shift                              4\n",
       "Tencode                           52\n",
       "Tencode Description               92\n",
       "Tencode Suffix                    30\n",
       "Tencode Suffix Description        21\n",
       "Disposition Code                  17\n",
       "Disposition Description           16\n",
       "Block                            139\n",
       "Street Name                    27641\n",
       "Unit Dispatched                 2620\n",
       "Sector                             9\n",
       "Zone                              13\n",
       "RPA                             1997\n",
       "Latitude                         436\n",
       "Longitude                        529\n",
       "Mapped Location                40118\n",
       "dtype: int64"
      ]
     },
     "execution_count": 15,
     "metadata": {},
     "output_type": "execute_result"
    }
   ],
   "source": [
    "df.apply(lambda x: len(x.unique()))"
   ]
  },
  {
   "cell_type": "code",
   "execution_count": 9,
   "metadata": {},
   "outputs": [],
   "source": [
    "df_new = df[['Call Received', 'Tencode Description','Disposition Description','Mapped Location']]"
   ]
  },
  {
   "cell_type": "code",
   "execution_count": 10,
   "metadata": {},
   "outputs": [
    {
     "data": {
      "text/plain": [
       "(785035, 4)"
      ]
     },
     "execution_count": 10,
     "metadata": {},
     "output_type": "execute_result"
    }
   ],
   "source": [
    "df_new.shape"
   ]
  },
  {
   "cell_type": "code",
   "execution_count": 16,
   "metadata": {},
   "outputs": [
    {
     "data": {
      "text/plain": [
       "0    02/20/2019 10:44:46 AM\n",
       "1    02/13/2019 01:10:45 AM\n",
       "2    02/17/2019 12:47:28 PM\n",
       "3    02/17/2019 10:46:09 AM\n",
       "4    02/17/2019 04:31:56 AM\n",
       "Name: Call Received, dtype: object"
      ]
     },
     "execution_count": 16,
     "metadata": {},
     "output_type": "execute_result"
    }
   ],
   "source": [
    "df_new['Call Received'].head()"
   ]
  },
  {
   "cell_type": "code",
   "execution_count": 18,
   "metadata": {},
   "outputs": [
    {
     "name": "stderr",
     "output_type": "stream",
     "text": [
      "/Users/zachcornelison/anaconda3/lib/python3.7/site-packages/ipykernel_launcher.py:1: SettingWithCopyWarning: \n",
      "A value is trying to be set on a copy of a slice from a DataFrame.\n",
      "Try using .loc[row_indexer,col_indexer] = value instead\n",
      "\n",
      "See the caveats in the documentation: http://pandas.pydata.org/pandas-docs/stable/indexing.html#indexing-view-versus-copy\n",
      "  \"\"\"Entry point for launching an IPython kernel.\n"
     ]
    }
   ],
   "source": [
    "df_new['Call Received'] =  pd.to_datetime(df_new['Call Received'])"
   ]
  },
  {
   "cell_type": "code",
   "execution_count": 20,
   "metadata": {},
   "outputs": [
    {
     "data": {
      "text/plain": [
       "0   2019-02-20 10:44:46\n",
       "1   2019-02-13 01:10:45\n",
       "2   2019-02-17 12:47:28\n",
       "3   2019-02-17 10:46:09\n",
       "4   2019-02-17 04:31:56\n",
       "5   2019-02-17 15:30:43\n",
       "6   2019-01-29 01:43:00\n",
       "7   2019-02-17 17:20:15\n",
       "8   2019-02-17 16:37:19\n",
       "9   2019-02-17 17:52:33\n",
       "Name: Call Received, dtype: datetime64[ns]"
      ]
     },
     "execution_count": 20,
     "metadata": {},
     "output_type": "execute_result"
    }
   ],
   "source": [
    "df_new['Call Received'].head(10)"
   ]
  },
  {
   "cell_type": "code",
   "execution_count": 21,
   "metadata": {},
   "outputs": [
    {
     "name": "stderr",
     "output_type": "stream",
     "text": [
      "/Users/zachcornelison/anaconda3/lib/python3.7/site-packages/ipykernel_launcher.py:1: SettingWithCopyWarning: \n",
      "A value is trying to be set on a copy of a slice from a DataFrame.\n",
      "Try using .loc[row_indexer,col_indexer] = value instead\n",
      "\n",
      "See the caveats in the documentation: http://pandas.pydata.org/pandas-docs/stable/indexing.html#indexing-view-versus-copy\n",
      "  \"\"\"Entry point for launching an IPython kernel.\n"
     ]
    }
   ],
   "source": [
    "df_new['Call Time'] = [d.time() for d in df_new['Call Received']]"
   ]
  },
  {
   "cell_type": "code",
   "execution_count": 22,
   "metadata": {},
   "outputs": [
    {
     "data": {
      "text/html": [
       "<div>\n",
       "<style scoped>\n",
       "    .dataframe tbody tr th:only-of-type {\n",
       "        vertical-align: middle;\n",
       "    }\n",
       "\n",
       "    .dataframe tbody tr th {\n",
       "        vertical-align: top;\n",
       "    }\n",
       "\n",
       "    .dataframe thead th {\n",
       "        text-align: right;\n",
       "    }\n",
       "</style>\n",
       "<table border=\"1\" class=\"dataframe\">\n",
       "  <thead>\n",
       "    <tr style=\"text-align: right;\">\n",
       "      <th></th>\n",
       "      <th>Call Received</th>\n",
       "      <th>Tencode Description</th>\n",
       "      <th>Disposition Description</th>\n",
       "      <th>Mapped Location</th>\n",
       "      <th>Call Time</th>\n",
       "    </tr>\n",
       "  </thead>\n",
       "  <tbody>\n",
       "    <tr>\n",
       "      <th>0</th>\n",
       "      <td>2019-02-20 10:44:46</td>\n",
       "      <td>Theft</td>\n",
       "      <td>M.P.D. REPORT COMPLED</td>\n",
       "      <td>NaN</td>\n",
       "      <td>10:44:46</td>\n",
       "    </tr>\n",
       "    <tr>\n",
       "      <th>1</th>\n",
       "      <td>2019-02-13 01:10:45</td>\n",
       "      <td>Burglary - Non-Residence</td>\n",
       "      <td>ASSISTED OTHER UNIT</td>\n",
       "      <td>NaN</td>\n",
       "      <td>01:10:45</td>\n",
       "    </tr>\n",
       "    <tr>\n",
       "      <th>2</th>\n",
       "      <td>2019-02-17 12:47:28</td>\n",
       "      <td>Theft</td>\n",
       "      <td>M.P.D. REPORT COMPLED</td>\n",
       "      <td>NaN</td>\n",
       "      <td>12:47:28</td>\n",
       "    </tr>\n",
       "    <tr>\n",
       "      <th>3</th>\n",
       "      <td>2019-02-17 10:46:09</td>\n",
       "      <td>Vehicle Accident - Property Damage</td>\n",
       "      <td>ASSISTED OTHER UNIT</td>\n",
       "      <td>(36.178, -86.785)</td>\n",
       "      <td>10:46:09</td>\n",
       "    </tr>\n",
       "    <tr>\n",
       "      <th>4</th>\n",
       "      <td>2019-02-17 04:31:56</td>\n",
       "      <td>Want Officer for Investigation / Assistance</td>\n",
       "      <td>ADVISED IN CIVIL CASE</td>\n",
       "      <td>(36.172, -86.772)</td>\n",
       "      <td>04:31:56</td>\n",
       "    </tr>\n",
       "    <tr>\n",
       "      <th>5</th>\n",
       "      <td>2019-02-17 15:30:43</td>\n",
       "      <td>Want Officer for Investigation / Assistance</td>\n",
       "      <td>ASSISTED CITIZEN</td>\n",
       "      <td>(36.176, -86.794)</td>\n",
       "      <td>15:30:43</td>\n",
       "    </tr>\n",
       "    <tr>\n",
       "      <th>6</th>\n",
       "      <td>2019-01-29 01:43:00</td>\n",
       "      <td>Fixed Post</td>\n",
       "      <td>COMMUNITY POLICING</td>\n",
       "      <td>NaN</td>\n",
       "      <td>01:43:00</td>\n",
       "    </tr>\n",
       "    <tr>\n",
       "      <th>7</th>\n",
       "      <td>2019-02-17 17:20:15</td>\n",
       "      <td>Want Officer for Investigation / Assistance</td>\n",
       "      <td>DISREGARD / SIGNAL 9</td>\n",
       "      <td>(36.28, -86.835)</td>\n",
       "      <td>17:20:15</td>\n",
       "    </tr>\n",
       "    <tr>\n",
       "      <th>8</th>\n",
       "      <td>2019-02-17 16:37:19</td>\n",
       "      <td>Want Officer for Investigation / Assistance</td>\n",
       "      <td>M.P.D. REPORT COMPLED</td>\n",
       "      <td>(36.223, -86.809)</td>\n",
       "      <td>16:37:19</td>\n",
       "    </tr>\n",
       "    <tr>\n",
       "      <th>9</th>\n",
       "      <td>2019-02-17 17:52:33</td>\n",
       "      <td>Theft</td>\n",
       "      <td>CITATION - TRAFFIC</td>\n",
       "      <td>(36.301, -86.699)</td>\n",
       "      <td>17:52:33</td>\n",
       "    </tr>\n",
       "  </tbody>\n",
       "</table>\n",
       "</div>"
      ],
      "text/plain": [
       "        Call Received                          Tencode Description  \\\n",
       "0 2019-02-20 10:44:46                                        Theft   \n",
       "1 2019-02-13 01:10:45                     Burglary - Non-Residence   \n",
       "2 2019-02-17 12:47:28                                        Theft   \n",
       "3 2019-02-17 10:46:09           Vehicle Accident - Property Damage   \n",
       "4 2019-02-17 04:31:56  Want Officer for Investigation / Assistance   \n",
       "5 2019-02-17 15:30:43  Want Officer for Investigation / Assistance   \n",
       "6 2019-01-29 01:43:00                                   Fixed Post   \n",
       "7 2019-02-17 17:20:15  Want Officer for Investigation / Assistance   \n",
       "8 2019-02-17 16:37:19  Want Officer for Investigation / Assistance   \n",
       "9 2019-02-17 17:52:33                                        Theft   \n",
       "\n",
       "  Disposition Description    Mapped Location Call Time  \n",
       "0   M.P.D. REPORT COMPLED                NaN  10:44:46  \n",
       "1     ASSISTED OTHER UNIT                NaN  01:10:45  \n",
       "2   M.P.D. REPORT COMPLED                NaN  12:47:28  \n",
       "3     ASSISTED OTHER UNIT  (36.178, -86.785)  10:46:09  \n",
       "4   ADVISED IN CIVIL CASE  (36.172, -86.772)  04:31:56  \n",
       "5        ASSISTED CITIZEN  (36.176, -86.794)  15:30:43  \n",
       "6      COMMUNITY POLICING                NaN  01:43:00  \n",
       "7    DISREGARD / SIGNAL 9   (36.28, -86.835)  17:20:15  \n",
       "8   M.P.D. REPORT COMPLED  (36.223, -86.809)  16:37:19  \n",
       "9      CITATION - TRAFFIC  (36.301, -86.699)  17:52:33  "
      ]
     },
     "execution_count": 22,
     "metadata": {},
     "output_type": "execute_result"
    }
   ],
   "source": [
    "df_new.head(10)"
   ]
  },
  {
   "cell_type": "code",
   "execution_count": 23,
   "metadata": {},
   "outputs": [
    {
     "name": "stderr",
     "output_type": "stream",
     "text": [
      "/Users/zachcornelison/anaconda3/lib/python3.7/site-packages/ipykernel_launcher.py:1: SettingWithCopyWarning: \n",
      "A value is trying to be set on a copy of a slice from a DataFrame.\n",
      "Try using .loc[row_indexer,col_indexer] = value instead\n",
      "\n",
      "See the caveats in the documentation: http://pandas.pydata.org/pandas-docs/stable/indexing.html#indexing-view-versus-copy\n",
      "  \"\"\"Entry point for launching an IPython kernel.\n"
     ]
    }
   ],
   "source": [
    "df_new['Call Day'] = df_new['Call Received'].dt.day_name()"
   ]
  },
  {
   "cell_type": "code",
   "execution_count": 24,
   "metadata": {},
   "outputs": [
    {
     "data": {
      "text/html": [
       "<div>\n",
       "<style scoped>\n",
       "    .dataframe tbody tr th:only-of-type {\n",
       "        vertical-align: middle;\n",
       "    }\n",
       "\n",
       "    .dataframe tbody tr th {\n",
       "        vertical-align: top;\n",
       "    }\n",
       "\n",
       "    .dataframe thead th {\n",
       "        text-align: right;\n",
       "    }\n",
       "</style>\n",
       "<table border=\"1\" class=\"dataframe\">\n",
       "  <thead>\n",
       "    <tr style=\"text-align: right;\">\n",
       "      <th></th>\n",
       "      <th>Call Received</th>\n",
       "      <th>Tencode Description</th>\n",
       "      <th>Disposition Description</th>\n",
       "      <th>Mapped Location</th>\n",
       "      <th>Call Time</th>\n",
       "      <th>Call Day</th>\n",
       "    </tr>\n",
       "  </thead>\n",
       "  <tbody>\n",
       "    <tr>\n",
       "      <th>0</th>\n",
       "      <td>2019-02-20 10:44:46</td>\n",
       "      <td>Theft</td>\n",
       "      <td>M.P.D. REPORT COMPLED</td>\n",
       "      <td>NaN</td>\n",
       "      <td>10:44:46</td>\n",
       "      <td>Wednesday</td>\n",
       "    </tr>\n",
       "    <tr>\n",
       "      <th>1</th>\n",
       "      <td>2019-02-13 01:10:45</td>\n",
       "      <td>Burglary - Non-Residence</td>\n",
       "      <td>ASSISTED OTHER UNIT</td>\n",
       "      <td>NaN</td>\n",
       "      <td>01:10:45</td>\n",
       "      <td>Wednesday</td>\n",
       "    </tr>\n",
       "    <tr>\n",
       "      <th>2</th>\n",
       "      <td>2019-02-17 12:47:28</td>\n",
       "      <td>Theft</td>\n",
       "      <td>M.P.D. REPORT COMPLED</td>\n",
       "      <td>NaN</td>\n",
       "      <td>12:47:28</td>\n",
       "      <td>Sunday</td>\n",
       "    </tr>\n",
       "    <tr>\n",
       "      <th>3</th>\n",
       "      <td>2019-02-17 10:46:09</td>\n",
       "      <td>Vehicle Accident - Property Damage</td>\n",
       "      <td>ASSISTED OTHER UNIT</td>\n",
       "      <td>(36.178, -86.785)</td>\n",
       "      <td>10:46:09</td>\n",
       "      <td>Sunday</td>\n",
       "    </tr>\n",
       "    <tr>\n",
       "      <th>4</th>\n",
       "      <td>2019-02-17 04:31:56</td>\n",
       "      <td>Want Officer for Investigation / Assistance</td>\n",
       "      <td>ADVISED IN CIVIL CASE</td>\n",
       "      <td>(36.172, -86.772)</td>\n",
       "      <td>04:31:56</td>\n",
       "      <td>Sunday</td>\n",
       "    </tr>\n",
       "    <tr>\n",
       "      <th>5</th>\n",
       "      <td>2019-02-17 15:30:43</td>\n",
       "      <td>Want Officer for Investigation / Assistance</td>\n",
       "      <td>ASSISTED CITIZEN</td>\n",
       "      <td>(36.176, -86.794)</td>\n",
       "      <td>15:30:43</td>\n",
       "      <td>Sunday</td>\n",
       "    </tr>\n",
       "    <tr>\n",
       "      <th>6</th>\n",
       "      <td>2019-01-29 01:43:00</td>\n",
       "      <td>Fixed Post</td>\n",
       "      <td>COMMUNITY POLICING</td>\n",
       "      <td>NaN</td>\n",
       "      <td>01:43:00</td>\n",
       "      <td>Tuesday</td>\n",
       "    </tr>\n",
       "    <tr>\n",
       "      <th>7</th>\n",
       "      <td>2019-02-17 17:20:15</td>\n",
       "      <td>Want Officer for Investigation / Assistance</td>\n",
       "      <td>DISREGARD / SIGNAL 9</td>\n",
       "      <td>(36.28, -86.835)</td>\n",
       "      <td>17:20:15</td>\n",
       "      <td>Sunday</td>\n",
       "    </tr>\n",
       "    <tr>\n",
       "      <th>8</th>\n",
       "      <td>2019-02-17 16:37:19</td>\n",
       "      <td>Want Officer for Investigation / Assistance</td>\n",
       "      <td>M.P.D. REPORT COMPLED</td>\n",
       "      <td>(36.223, -86.809)</td>\n",
       "      <td>16:37:19</td>\n",
       "      <td>Sunday</td>\n",
       "    </tr>\n",
       "    <tr>\n",
       "      <th>9</th>\n",
       "      <td>2019-02-17 17:52:33</td>\n",
       "      <td>Theft</td>\n",
       "      <td>CITATION - TRAFFIC</td>\n",
       "      <td>(36.301, -86.699)</td>\n",
       "      <td>17:52:33</td>\n",
       "      <td>Sunday</td>\n",
       "    </tr>\n",
       "  </tbody>\n",
       "</table>\n",
       "</div>"
      ],
      "text/plain": [
       "        Call Received                          Tencode Description  \\\n",
       "0 2019-02-20 10:44:46                                        Theft   \n",
       "1 2019-02-13 01:10:45                     Burglary - Non-Residence   \n",
       "2 2019-02-17 12:47:28                                        Theft   \n",
       "3 2019-02-17 10:46:09           Vehicle Accident - Property Damage   \n",
       "4 2019-02-17 04:31:56  Want Officer for Investigation / Assistance   \n",
       "5 2019-02-17 15:30:43  Want Officer for Investigation / Assistance   \n",
       "6 2019-01-29 01:43:00                                   Fixed Post   \n",
       "7 2019-02-17 17:20:15  Want Officer for Investigation / Assistance   \n",
       "8 2019-02-17 16:37:19  Want Officer for Investigation / Assistance   \n",
       "9 2019-02-17 17:52:33                                        Theft   \n",
       "\n",
       "  Disposition Description    Mapped Location Call Time   Call Day  \n",
       "0   M.P.D. REPORT COMPLED                NaN  10:44:46  Wednesday  \n",
       "1     ASSISTED OTHER UNIT                NaN  01:10:45  Wednesday  \n",
       "2   M.P.D. REPORT COMPLED                NaN  12:47:28     Sunday  \n",
       "3     ASSISTED OTHER UNIT  (36.178, -86.785)  10:46:09     Sunday  \n",
       "4   ADVISED IN CIVIL CASE  (36.172, -86.772)  04:31:56     Sunday  \n",
       "5        ASSISTED CITIZEN  (36.176, -86.794)  15:30:43     Sunday  \n",
       "6      COMMUNITY POLICING                NaN  01:43:00    Tuesday  \n",
       "7    DISREGARD / SIGNAL 9   (36.28, -86.835)  17:20:15     Sunday  \n",
       "8   M.P.D. REPORT COMPLED  (36.223, -86.809)  16:37:19     Sunday  \n",
       "9      CITATION - TRAFFIC  (36.301, -86.699)  17:52:33     Sunday  "
      ]
     },
     "execution_count": 24,
     "metadata": {},
     "output_type": "execute_result"
    }
   ],
   "source": [
    "df_new.head(10)"
   ]
  },
  {
   "cell_type": "code",
   "execution_count": 26,
   "metadata": {},
   "outputs": [
    {
     "data": {
      "text/html": [
       "<div>\n",
       "<style scoped>\n",
       "    .dataframe tbody tr th:only-of-type {\n",
       "        vertical-align: middle;\n",
       "    }\n",
       "\n",
       "    .dataframe tbody tr th {\n",
       "        vertical-align: top;\n",
       "    }\n",
       "\n",
       "    .dataframe thead th {\n",
       "        text-align: right;\n",
       "    }\n",
       "</style>\n",
       "<table border=\"1\" class=\"dataframe\">\n",
       "  <thead>\n",
       "    <tr style=\"text-align: right;\">\n",
       "      <th></th>\n",
       "      <th>Call Received</th>\n",
       "      <th>Call Time</th>\n",
       "      <th>Call Day</th>\n",
       "      <th>Tencode Description</th>\n",
       "      <th>Disposition Description</th>\n",
       "      <th>Mapped Location</th>\n",
       "    </tr>\n",
       "  </thead>\n",
       "  <tbody>\n",
       "    <tr>\n",
       "      <th>0</th>\n",
       "      <td>2019-02-20 10:44:46</td>\n",
       "      <td>10:44:46</td>\n",
       "      <td>Wednesday</td>\n",
       "      <td>Theft</td>\n",
       "      <td>M.P.D. REPORT COMPLED</td>\n",
       "      <td>NaN</td>\n",
       "    </tr>\n",
       "    <tr>\n",
       "      <th>1</th>\n",
       "      <td>2019-02-13 01:10:45</td>\n",
       "      <td>01:10:45</td>\n",
       "      <td>Wednesday</td>\n",
       "      <td>Burglary - Non-Residence</td>\n",
       "      <td>ASSISTED OTHER UNIT</td>\n",
       "      <td>NaN</td>\n",
       "    </tr>\n",
       "    <tr>\n",
       "      <th>2</th>\n",
       "      <td>2019-02-17 12:47:28</td>\n",
       "      <td>12:47:28</td>\n",
       "      <td>Sunday</td>\n",
       "      <td>Theft</td>\n",
       "      <td>M.P.D. REPORT COMPLED</td>\n",
       "      <td>NaN</td>\n",
       "    </tr>\n",
       "    <tr>\n",
       "      <th>3</th>\n",
       "      <td>2019-02-17 10:46:09</td>\n",
       "      <td>10:46:09</td>\n",
       "      <td>Sunday</td>\n",
       "      <td>Vehicle Accident - Property Damage</td>\n",
       "      <td>ASSISTED OTHER UNIT</td>\n",
       "      <td>(36.178, -86.785)</td>\n",
       "    </tr>\n",
       "    <tr>\n",
       "      <th>4</th>\n",
       "      <td>2019-02-17 04:31:56</td>\n",
       "      <td>04:31:56</td>\n",
       "      <td>Sunday</td>\n",
       "      <td>Want Officer for Investigation / Assistance</td>\n",
       "      <td>ADVISED IN CIVIL CASE</td>\n",
       "      <td>(36.172, -86.772)</td>\n",
       "    </tr>\n",
       "  </tbody>\n",
       "</table>\n",
       "</div>"
      ],
      "text/plain": [
       "        Call Received Call Time   Call Day  \\\n",
       "0 2019-02-20 10:44:46  10:44:46  Wednesday   \n",
       "1 2019-02-13 01:10:45  01:10:45  Wednesday   \n",
       "2 2019-02-17 12:47:28  12:47:28     Sunday   \n",
       "3 2019-02-17 10:46:09  10:46:09     Sunday   \n",
       "4 2019-02-17 04:31:56  04:31:56     Sunday   \n",
       "\n",
       "                           Tencode Description Disposition Description  \\\n",
       "0                                        Theft   M.P.D. REPORT COMPLED   \n",
       "1                     Burglary - Non-Residence     ASSISTED OTHER UNIT   \n",
       "2                                        Theft   M.P.D. REPORT COMPLED   \n",
       "3           Vehicle Accident - Property Damage     ASSISTED OTHER UNIT   \n",
       "4  Want Officer for Investigation / Assistance   ADVISED IN CIVIL CASE   \n",
       "\n",
       "     Mapped Location  \n",
       "0                NaN  \n",
       "1                NaN  \n",
       "2                NaN  \n",
       "3  (36.178, -86.785)  \n",
       "4  (36.172, -86.772)  "
      ]
     },
     "execution_count": 26,
     "metadata": {},
     "output_type": "execute_result"
    }
   ],
   "source": [
    "df_new.head()"
   ]
  },
  {
   "cell_type": "code",
   "execution_count": 27,
   "metadata": {},
   "outputs": [
    {
     "data": {
      "text/plain": [
       "Call Received              785035\n",
       "Call Time                  785035\n",
       "Call Day                   785035\n",
       "Tencode Description        785035\n",
       "Disposition Description    783773\n",
       "Mapped Location            754258\n",
       "dtype: int64"
      ]
     },
     "execution_count": 27,
     "metadata": {},
     "output_type": "execute_result"
    }
   ],
   "source": [
    "df_new.count()"
   ]
  },
  {
   "cell_type": "code",
   "execution_count": 28,
   "metadata": {},
   "outputs": [
    {
     "data": {
      "text/plain": [
       "Call Received              763745\n",
       "Call Time                   86371\n",
       "Call Day                        7\n",
       "Tencode Description            92\n",
       "Disposition Description        16\n",
       "Mapped Location             40118\n",
       "dtype: int64"
      ]
     },
     "execution_count": 28,
     "metadata": {},
     "output_type": "execute_result"
    }
   ],
   "source": [
    "df_new.apply(lambda x: len(x.unique()))"
   ]
  },
  {
   "cell_type": "code",
   "execution_count": 41,
   "metadata": {},
   "outputs": [],
   "source": [
    "df_new = df_new.assign(\n",
    "    timeOfDay=pd.cut(\n",
    "        df_new['Call Received'].dt.hour,\n",
    "        [-1, 4, 8, 12, 16, 20, 24],\n",
    "        labels=['Late Night', 'Early Morning', 'Morning', 'Afternoon', 'Evening', 'Night']))"
   ]
  },
  {
   "cell_type": "code",
   "execution_count": 42,
   "metadata": {},
   "outputs": [
    {
     "data": {
      "text/html": [
       "<div>\n",
       "<style scoped>\n",
       "    .dataframe tbody tr th:only-of-type {\n",
       "        vertical-align: middle;\n",
       "    }\n",
       "\n",
       "    .dataframe tbody tr th {\n",
       "        vertical-align: top;\n",
       "    }\n",
       "\n",
       "    .dataframe thead th {\n",
       "        text-align: right;\n",
       "    }\n",
       "</style>\n",
       "<table border=\"1\" class=\"dataframe\">\n",
       "  <thead>\n",
       "    <tr style=\"text-align: right;\">\n",
       "      <th></th>\n",
       "      <th>Call Received</th>\n",
       "      <th>Call Time</th>\n",
       "      <th>Call Day</th>\n",
       "      <th>Tencode Description</th>\n",
       "      <th>Disposition Description</th>\n",
       "      <th>Mapped Location</th>\n",
       "      <th>timeOfDay</th>\n",
       "    </tr>\n",
       "  </thead>\n",
       "  <tbody>\n",
       "    <tr>\n",
       "      <th>0</th>\n",
       "      <td>2019-02-20 10:44:46</td>\n",
       "      <td>10:44:46</td>\n",
       "      <td>Wednesday</td>\n",
       "      <td>Theft</td>\n",
       "      <td>M.P.D. REPORT COMPLED</td>\n",
       "      <td>NaN</td>\n",
       "      <td>Morning</td>\n",
       "    </tr>\n",
       "    <tr>\n",
       "      <th>1</th>\n",
       "      <td>2019-02-13 01:10:45</td>\n",
       "      <td>01:10:45</td>\n",
       "      <td>Wednesday</td>\n",
       "      <td>Burglary - Non-Residence</td>\n",
       "      <td>ASSISTED OTHER UNIT</td>\n",
       "      <td>NaN</td>\n",
       "      <td>Late Night</td>\n",
       "    </tr>\n",
       "    <tr>\n",
       "      <th>2</th>\n",
       "      <td>2019-02-17 12:47:28</td>\n",
       "      <td>12:47:28</td>\n",
       "      <td>Sunday</td>\n",
       "      <td>Theft</td>\n",
       "      <td>M.P.D. REPORT COMPLED</td>\n",
       "      <td>NaN</td>\n",
       "      <td>Morning</td>\n",
       "    </tr>\n",
       "    <tr>\n",
       "      <th>3</th>\n",
       "      <td>2019-02-17 10:46:09</td>\n",
       "      <td>10:46:09</td>\n",
       "      <td>Sunday</td>\n",
       "      <td>Vehicle Accident - Property Damage</td>\n",
       "      <td>ASSISTED OTHER UNIT</td>\n",
       "      <td>(36.178, -86.785)</td>\n",
       "      <td>Morning</td>\n",
       "    </tr>\n",
       "    <tr>\n",
       "      <th>4</th>\n",
       "      <td>2019-02-17 04:31:56</td>\n",
       "      <td>04:31:56</td>\n",
       "      <td>Sunday</td>\n",
       "      <td>Want Officer for Investigation / Assistance</td>\n",
       "      <td>ADVISED IN CIVIL CASE</td>\n",
       "      <td>(36.172, -86.772)</td>\n",
       "      <td>Late Night</td>\n",
       "    </tr>\n",
       "  </tbody>\n",
       "</table>\n",
       "</div>"
      ],
      "text/plain": [
       "        Call Received Call Time   Call Day  \\\n",
       "0 2019-02-20 10:44:46  10:44:46  Wednesday   \n",
       "1 2019-02-13 01:10:45  01:10:45  Wednesday   \n",
       "2 2019-02-17 12:47:28  12:47:28     Sunday   \n",
       "3 2019-02-17 10:46:09  10:46:09     Sunday   \n",
       "4 2019-02-17 04:31:56  04:31:56     Sunday   \n",
       "\n",
       "                           Tencode Description Disposition Description  \\\n",
       "0                                        Theft   M.P.D. REPORT COMPLED   \n",
       "1                     Burglary - Non-Residence     ASSISTED OTHER UNIT   \n",
       "2                                        Theft   M.P.D. REPORT COMPLED   \n",
       "3           Vehicle Accident - Property Damage     ASSISTED OTHER UNIT   \n",
       "4  Want Officer for Investigation / Assistance   ADVISED IN CIVIL CASE   \n",
       "\n",
       "     Mapped Location   timeOfDay  \n",
       "0                NaN     Morning  \n",
       "1                NaN  Late Night  \n",
       "2                NaN     Morning  \n",
       "3  (36.178, -86.785)     Morning  \n",
       "4  (36.172, -86.772)  Late Night  "
      ]
     },
     "execution_count": 42,
     "metadata": {},
     "output_type": "execute_result"
    }
   ],
   "source": [
    "df_new.head()"
   ]
  },
  {
   "cell_type": "code",
   "execution_count": 43,
   "metadata": {},
   "outputs": [],
   "source": [
    "df_new.rename(columns = {'timeOfDay':'Call Time of Day'}, inplace = True)"
   ]
  },
  {
   "cell_type": "code",
   "execution_count": 45,
   "metadata": {},
   "outputs": [],
   "source": [
    "df_new = df_new[['Call Received', 'Call Time', 'Call Day', 'Call Time of Day', 'Tencode Description','Disposition Description','Mapped Location']]"
   ]
  },
  {
   "cell_type": "code",
   "execution_count": 46,
   "metadata": {},
   "outputs": [
    {
     "data": {
      "text/html": [
       "<div>\n",
       "<style scoped>\n",
       "    .dataframe tbody tr th:only-of-type {\n",
       "        vertical-align: middle;\n",
       "    }\n",
       "\n",
       "    .dataframe tbody tr th {\n",
       "        vertical-align: top;\n",
       "    }\n",
       "\n",
       "    .dataframe thead th {\n",
       "        text-align: right;\n",
       "    }\n",
       "</style>\n",
       "<table border=\"1\" class=\"dataframe\">\n",
       "  <thead>\n",
       "    <tr style=\"text-align: right;\">\n",
       "      <th></th>\n",
       "      <th>Call Received</th>\n",
       "      <th>Call Time</th>\n",
       "      <th>Call Day</th>\n",
       "      <th>Call Time of Day</th>\n",
       "      <th>Tencode Description</th>\n",
       "      <th>Disposition Description</th>\n",
       "      <th>Mapped Location</th>\n",
       "    </tr>\n",
       "  </thead>\n",
       "  <tbody>\n",
       "    <tr>\n",
       "      <th>0</th>\n",
       "      <td>2019-02-20 10:44:46</td>\n",
       "      <td>10:44:46</td>\n",
       "      <td>Wednesday</td>\n",
       "      <td>Morning</td>\n",
       "      <td>Theft</td>\n",
       "      <td>M.P.D. REPORT COMPLED</td>\n",
       "      <td>NaN</td>\n",
       "    </tr>\n",
       "    <tr>\n",
       "      <th>1</th>\n",
       "      <td>2019-02-13 01:10:45</td>\n",
       "      <td>01:10:45</td>\n",
       "      <td>Wednesday</td>\n",
       "      <td>Late Night</td>\n",
       "      <td>Burglary - Non-Residence</td>\n",
       "      <td>ASSISTED OTHER UNIT</td>\n",
       "      <td>NaN</td>\n",
       "    </tr>\n",
       "    <tr>\n",
       "      <th>2</th>\n",
       "      <td>2019-02-17 12:47:28</td>\n",
       "      <td>12:47:28</td>\n",
       "      <td>Sunday</td>\n",
       "      <td>Morning</td>\n",
       "      <td>Theft</td>\n",
       "      <td>M.P.D. REPORT COMPLED</td>\n",
       "      <td>NaN</td>\n",
       "    </tr>\n",
       "    <tr>\n",
       "      <th>3</th>\n",
       "      <td>2019-02-17 10:46:09</td>\n",
       "      <td>10:46:09</td>\n",
       "      <td>Sunday</td>\n",
       "      <td>Morning</td>\n",
       "      <td>Vehicle Accident - Property Damage</td>\n",
       "      <td>ASSISTED OTHER UNIT</td>\n",
       "      <td>(36.178, -86.785)</td>\n",
       "    </tr>\n",
       "    <tr>\n",
       "      <th>4</th>\n",
       "      <td>2019-02-17 04:31:56</td>\n",
       "      <td>04:31:56</td>\n",
       "      <td>Sunday</td>\n",
       "      <td>Late Night</td>\n",
       "      <td>Want Officer for Investigation / Assistance</td>\n",
       "      <td>ADVISED IN CIVIL CASE</td>\n",
       "      <td>(36.172, -86.772)</td>\n",
       "    </tr>\n",
       "  </tbody>\n",
       "</table>\n",
       "</div>"
      ],
      "text/plain": [
       "        Call Received Call Time   Call Day Call Time of Day  \\\n",
       "0 2019-02-20 10:44:46  10:44:46  Wednesday          Morning   \n",
       "1 2019-02-13 01:10:45  01:10:45  Wednesday       Late Night   \n",
       "2 2019-02-17 12:47:28  12:47:28     Sunday          Morning   \n",
       "3 2019-02-17 10:46:09  10:46:09     Sunday          Morning   \n",
       "4 2019-02-17 04:31:56  04:31:56     Sunday       Late Night   \n",
       "\n",
       "                           Tencode Description Disposition Description  \\\n",
       "0                                        Theft   M.P.D. REPORT COMPLED   \n",
       "1                     Burglary - Non-Residence     ASSISTED OTHER UNIT   \n",
       "2                                        Theft   M.P.D. REPORT COMPLED   \n",
       "3           Vehicle Accident - Property Damage     ASSISTED OTHER UNIT   \n",
       "4  Want Officer for Investigation / Assistance   ADVISED IN CIVIL CASE   \n",
       "\n",
       "     Mapped Location  \n",
       "0                NaN  \n",
       "1                NaN  \n",
       "2                NaN  \n",
       "3  (36.178, -86.785)  \n",
       "4  (36.172, -86.772)  "
      ]
     },
     "execution_count": 46,
     "metadata": {},
     "output_type": "execute_result"
    }
   ],
   "source": [
    "df_new.head()"
   ]
  },
  {
   "cell_type": "code",
   "execution_count": 47,
   "metadata": {},
   "outputs": [
    {
     "data": {
      "text/plain": [
       "Call Received              763745\n",
       "Call Time                   86371\n",
       "Call Day                        7\n",
       "Call Time of Day                6\n",
       "Tencode Description            92\n",
       "Disposition Description        16\n",
       "Mapped Location             40118\n",
       "dtype: int64"
      ]
     },
     "execution_count": 47,
     "metadata": {},
     "output_type": "execute_result"
    }
   ],
   "source": [
    "df_new.apply(lambda x: len(x.unique()))"
   ]
  },
  {
   "cell_type": "code",
   "execution_count": null,
   "metadata": {},
   "outputs": [],
   "source": []
  }
 ],
 "metadata": {
  "kernelspec": {
   "display_name": "Python 3",
   "language": "python",
   "name": "python3"
  },
  "language_info": {
   "codemirror_mode": {
    "name": "ipython",
    "version": 3
   },
   "file_extension": ".py",
   "mimetype": "text/x-python",
   "name": "python",
   "nbconvert_exporter": "python",
   "pygments_lexer": "ipython3",
   "version": "3.7.0"
  }
 },
 "nbformat": 4,
 "nbformat_minor": 2
}
